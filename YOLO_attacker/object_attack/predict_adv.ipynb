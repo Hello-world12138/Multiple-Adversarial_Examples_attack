{
 "cells": [
  {
   "cell_type": "code",
   "execution_count": 1,
   "metadata": {
    "collapsed": true
   },
   "outputs": [],
   "source": [
    "import os\n",
    "os.environ[\"CUDA_VISIBLE_DEVICES\"] = '5'\n",
    "\n",
    "import sys\n",
    "sys.path.append('/opt/Documents/84/test1/object_attack')"
   ]
  },
  {
   "cell_type": "code",
   "execution_count": 9,
   "metadata": {},
   "outputs": [
    {
     "name": "stdout",
     "output_type": "stream",
     "text": [
      "../data/yolo_for_pre.h5 model, 9 anchors, and 80 classes loaded.\n"
     ]
    }
   ],
   "source": [
    "import pplot\n",
    "from PIL import Image\n",
    "\n",
    "yolo = pplot.YOLO()"
   ]
  },
  {
   "cell_type": "code",
   "execution_count": 10,
   "metadata": {
    "collapsed": true
   },
   "outputs": [
    {
     "name": "stdout",
     "output_type": "stream",
     "text": [
      "detector size (416, 416, 3)\n",
      "Found 8 boxes for img\n",
      "('diningtable 1.00', (22, 0), (406, 416))\n",
      "('knife 0.94', (357, 227), (387, 357))\n",
      "('fork 1.00', (7, 232), (93, 355))\n",
      "('cup 0.86', (143, 39), (174, 97))\n",
      "('cup 0.98', (224, 107), (286, 183))\n",
      "('bottle 0.80', (257, 1), (290, 140))\n",
      "('bottle 0.82', (206, 6), (239, 130))\n",
      "('bottle 1.00', (109, 0), (168, 183))\n",
      "4.03445792198\n",
      "detector size (416, 416, 3)\n",
      "Found 10 boxes for img\n",
      "('sports ball 0.96', (148, 221), (167, 238))\n",
      "('person 0.69', (370, 127), (416, 270))\n",
      "('person 0.72', (177, 107), (227, 161))\n",
      "('person 0.72', (118, 141), (295, 384))\n",
      "('person 0.94', (63, 90), (106, 146))\n",
      "('person 0.94', (60, 126), (108, 167))\n",
      "('person 0.95', (9, 85), (67, 162))\n",
      "('person 0.97', (143, 98), (195, 165))\n",
      "('person 0.98', (94, 101), (149, 164))\n",
      "('person 0.99', (278, 81), (325, 247))\n",
      "0.0729579925537\n",
      "detector size (416, 416, 3)\n",
      "Found 0 boxes for img\n",
      "0.0554411411285\n",
      "detector size (416, 416, 3)\n",
      "Found 1 boxes for img\n",
      "('toilet 0.81', (137, 214), (224, 385))\n",
      "0.0660109519958\n",
      "detector size (416, 416, 3)\n",
      "Found 3 boxes for img\n",
      "('bus 1.00', (0, 19), (108, 398))\n",
      "('bus 1.00', (111, 60), (326, 381))\n",
      "('bus 1.00', (309, 59), (416, 352))\n",
      "0.0578608512878\n"
     ]
    },
    {
     "ename": "IOError",
     "evalue": "[Errno 2] No such file or directory: 'samples/adv_25.png'",
     "output_type": "error",
     "traceback": [
      "\u001b[0;31m\u001b[0m",
      "\u001b[0;31mIOError\u001b[0mTraceback (most recent call last)",
      "\u001b[0;32m<ipython-input-10-cc1933f4c2be>\u001b[0m in \u001b[0;36m<module>\u001b[0;34m()\u001b[0m\n\u001b[1;32m      7\u001b[0m \u001b[0;31m#for i in range(num):\u001b[0m\u001b[0;34m\u001b[0m\u001b[0;34m\u001b[0m\u001b[0m\n\u001b[1;32m      8\u001b[0m \u001b[0;32mfor\u001b[0m \u001b[0mi\u001b[0m \u001b[0;32min\u001b[0m \u001b[0mrange\u001b[0m\u001b[0;34m(\u001b[0m\u001b[0mnum\u001b[0m\u001b[0;34m,\u001b[0m \u001b[0;36m25\u001b[0m\u001b[0;34m,\u001b[0m \u001b[0;34m-\u001b[0m\u001b[0;36m1\u001b[0m\u001b[0;34m)\u001b[0m\u001b[0;34m:\u001b[0m\u001b[0;34m\u001b[0m\u001b[0m\n\u001b[0;32m----> 9\u001b[0;31m     \u001b[0mimage\u001b[0m \u001b[0;34m=\u001b[0m \u001b[0mImage\u001b[0m\u001b[0;34m.\u001b[0m\u001b[0mopen\u001b[0m\u001b[0;34m(\u001b[0m\u001b[0;34m(\u001b[0m\u001b[0mpath\u001b[0m \u001b[0;34m+\u001b[0m \u001b[0mname\u001b[0m \u001b[0;34m+\u001b[0m \u001b[0mstr\u001b[0m\u001b[0;34m(\u001b[0m\u001b[0mi\u001b[0m\u001b[0;34m-\u001b[0m\u001b[0;36m1\u001b[0m\u001b[0;34m)\u001b[0m \u001b[0;34m+\u001b[0m \u001b[0;34m'.png'\u001b[0m\u001b[0;34m)\u001b[0m\u001b[0;34m)\u001b[0m\u001b[0;34m\u001b[0m\u001b[0m\n\u001b[0m\u001b[1;32m     10\u001b[0m     \u001b[0mr_image\u001b[0m \u001b[0;34m=\u001b[0m \u001b[0mpplot\u001b[0m\u001b[0;34m.\u001b[0m\u001b[0mdetect_img_for_test\u001b[0m\u001b[0;34m(\u001b[0m\u001b[0myolo\u001b[0m\u001b[0;34m,\u001b[0m \u001b[0mimage\u001b[0m\u001b[0;34m)\u001b[0m\u001b[0;34m\u001b[0m\u001b[0m\n\u001b[1;32m     11\u001b[0m     \u001b[0mr_image\u001b[0m\u001b[0;34m.\u001b[0m\u001b[0msave\u001b[0m\u001b[0;34m(\u001b[0m \u001b[0;34m'adv_results/'\u001b[0m \u001b[0;34m+\u001b[0m \u001b[0;34m'adv_res_'\u001b[0m \u001b[0;34m+\u001b[0m \u001b[0mstr\u001b[0m\u001b[0;34m(\u001b[0m\u001b[0mi\u001b[0m\u001b[0;34m-\u001b[0m\u001b[0;36m1\u001b[0m\u001b[0;34m)\u001b[0m \u001b[0;34m+\u001b[0m \u001b[0;34m'.png'\u001b[0m\u001b[0;34m)\u001b[0m\u001b[0;34m\u001b[0m\u001b[0m\n",
      "\u001b[0;32m/home/student/.local/lib/python2.7/site-packages/PIL/Image.pyc\u001b[0m in \u001b[0;36mopen\u001b[0;34m(fp, mode)\u001b[0m\n\u001b[1;32m   2764\u001b[0m \u001b[0;34m\u001b[0m\u001b[0m\n\u001b[1;32m   2765\u001b[0m     \u001b[0;32mif\u001b[0m \u001b[0mfilename\u001b[0m\u001b[0;34m:\u001b[0m\u001b[0;34m\u001b[0m\u001b[0m\n\u001b[0;32m-> 2766\u001b[0;31m         \u001b[0mfp\u001b[0m \u001b[0;34m=\u001b[0m \u001b[0mbuiltins\u001b[0m\u001b[0;34m.\u001b[0m\u001b[0mopen\u001b[0m\u001b[0;34m(\u001b[0m\u001b[0mfilename\u001b[0m\u001b[0;34m,\u001b[0m \u001b[0;34m\"rb\"\u001b[0m\u001b[0;34m)\u001b[0m\u001b[0;34m\u001b[0m\u001b[0m\n\u001b[0m\u001b[1;32m   2767\u001b[0m         \u001b[0mexclusive_fp\u001b[0m \u001b[0;34m=\u001b[0m \u001b[0mTrue\u001b[0m\u001b[0;34m\u001b[0m\u001b[0m\n\u001b[1;32m   2768\u001b[0m \u001b[0;34m\u001b[0m\u001b[0m\n",
      "\u001b[0;31mIOError\u001b[0m: [Errno 2] No such file or directory: 'samples/adv_25.png'"
     ]
    }
   ],
   "source": [
    "path = 'samples/'\n",
    "name = 'adv_'\n",
    "num = 31\n",
    "kkk = 0\n",
    "i = 0\n",
    "\n",
    "#for i in range(num):\n",
    "for i in range(num, 25, -1):\n",
    "    image = Image.open((path + name + str(i-1) + '.png'))\n",
    "    r_image = pplot.detect_img_for_test(yolo, image)\n",
    "    r_image.save( 'adv_results/' + 'adv_res_' + str(i-1) + '.png')\n",
    "\n",
    "    "
   ]
  },
  {
   "cell_type": "code",
   "execution_count": null,
   "metadata": {
    "collapsed": true
   },
   "outputs": [],
   "source": []
  }
 ],
 "metadata": {
  "kernelspec": {
   "display_name": "Python 3",
   "language": "python",
   "name": "python3"
  },
  "language_info": {
   "codemirror_mode": {
    "name": "ipython",
    "version": 2
   },
   "file_extension": ".py",
   "mimetype": "text/x-python",
   "name": "python",
   "nbconvert_exporter": "python",
   "pygments_lexer": "ipython2",
   "version": "2.7.12"
  }
 },
 "nbformat": 4,
 "nbformat_minor": 2
}
