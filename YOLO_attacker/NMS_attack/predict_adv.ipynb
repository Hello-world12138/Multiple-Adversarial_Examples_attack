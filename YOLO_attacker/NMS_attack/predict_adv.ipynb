{
 "cells": [
  {
   "cell_type": "code",
   "execution_count": 1,
   "metadata": {
    "collapsed": true
   },
   "outputs": [],
   "source": [
    "import os\n",
    "os.environ[\"CUDA_VISIBLE_DEVICES\"] = '1,2'\n",
    "\n",
    "import sys\n",
    "sys.path.append('/opt/Documents/84/test1/NMS_attack')"
   ]
  },
  {
   "cell_type": "code",
   "execution_count": 2,
   "metadata": {},
   "outputs": [
    {
     "name": "stderr",
     "output_type": "stream",
     "text": [
      "Using TensorFlow backend.\n"
     ]
    },
    {
     "name": "stdout",
     "output_type": "stream",
     "text": [
      "../data/yolo_for_pre.h5 model, 9 anchors, and 80 classes loaded.\n"
     ]
    }
   ],
   "source": [
    "import pplot\n",
    "from PIL import Image\n",
    "\n",
    "yolo = pplot.YOLO()"
   ]
  },
  {
   "cell_type": "code",
   "execution_count": null,
   "metadata": {
    "collapsed": true,
    "scrolled": true
   },
   "outputs": [],
   "source": [
    "path = '../datasets/'\n",
    "name = 'COCO_'\n",
    "num = 38\n",
    "kkk = 0\n",
    "\n",
    "X_test = []\n",
    "\n",
    "\n",
    "for i in range(num):\n",
    "    print i, name+str(i)\n",
    "    image = cv2.imread(path + name + str(i) + '.png')\n",
    "    image = cv2.cvtColor(image, cv2.COLOR_BGR2RGB)  # RGB\n",
    "    \n",
    "    data = process_image(image)\n",
    "    boxes, classes, scores = ORACLE.predict(data, [416,416])\n",
    "    \n",
    "    vis_bbox(data[0], boxes, classes, scores)\n",
    "    "
   ]
  },
  {
   "cell_type": "code",
   "execution_count": null,
   "metadata": {
    "collapsed": true
   },
   "outputs": [],
   "source": []
  }
 ],
 "metadata": {
  "kernelspec": {
   "display_name": "Python 3",
   "language": "python",
   "name": "python3"
  },
  "language_info": {
   "codemirror_mode": {
    "name": "ipython",
    "version": 2
   },
   "file_extension": ".py",
   "mimetype": "text/x-python",
   "name": "python",
   "nbconvert_exporter": "python",
   "pygments_lexer": "ipython2",
   "version": "2.7.12"
  }
 },
 "nbformat": 4,
 "nbformat_minor": 2
}
