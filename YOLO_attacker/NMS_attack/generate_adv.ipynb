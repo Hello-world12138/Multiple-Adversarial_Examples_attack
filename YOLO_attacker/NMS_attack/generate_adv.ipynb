{
 "cells": [
  {
   "cell_type": "code",
   "execution_count": 1,
   "metadata": {
    "collapsed": true
   },
   "outputs": [],
   "source": [
    "import os\n",
    "os.environ[\"CUDA_VISIBLE_DEVICES\"] = '0, 1'\n",
    "\n",
    "import sys\n",
    "sys.path.append('/opt/Documents/84/test1/NMS_attack')"
   ]
  },
  {
   "cell_type": "code",
   "execution_count": 2,
   "metadata": {},
   "outputs": [
    {
     "name": "stderr",
     "output_type": "stream",
     "text": [
      "/home/student/.local/lib/python2.7/site-packages/matplotlib/__init__.py:1405: UserWarning: \n",
      "This call to matplotlib.use() has no effect because the backend has already\n",
      "been chosen; matplotlib.use() must be called *before* pylab, matplotlib.pyplot,\n",
      "or matplotlib.backends is imported for the first time.\n",
      "\n",
      "  warnings.warn(_use_error_msg)\n",
      "Using TensorFlow backend.\n"
     ]
    }
   ],
   "source": [
    "import numpy as np\n",
    "\n",
    "import cv2\n",
    "import matplotlib.pyplot as plt\n",
    "from skimage import io\n",
    "\n",
    "from yolo_model import *\n",
    "from attack import *"
   ]
  },
  {
   "cell_type": "code",
   "execution_count": null,
   "metadata": {
    "collapsed": true
   },
   "outputs": [],
   "source": []
  },
  {
   "cell_type": "code",
   "execution_count": 3,
   "metadata": {},
   "outputs": [
    {
     "name": "stdout",
     "output_type": "stream",
     "text": [
      "0 COCO_0\n",
      "1 COCO_1\n",
      "2 COCO_2\n",
      "3 COCO_3\n",
      "4 COCO_4\n",
      "5 COCO_5\n",
      "6 COCO_6\n",
      "7 COCO_7\n",
      "8 COCO_8\n",
      "9 COCO_9\n",
      "10 COCO_10\n",
      "11 COCO_11\n",
      "12 COCO_12\n",
      "13 COCO_13\n",
      "14 COCO_14\n",
      "15 COCO_15\n",
      "16 COCO_16\n",
      "17 COCO_17\n",
      "18 COCO_18\n",
      "19 COCO_19\n",
      "20 COCO_20\n",
      "21 COCO_21\n",
      "22 COCO_22\n",
      "23 COCO_23\n",
      "24 COCO_24\n",
      "25 COCO_25\n",
      "26 COCO_26\n",
      "27 COCO_27\n",
      "28 COCO_28\n",
      "29 COCO_29\n",
      "30 COCO_30\n"
     ]
    }
   ],
   "source": [
    "path = '../datasets/'\n",
    "name = 'COCO_'\n",
    "num = 30\n",
    "\n",
    "X_test = []\n",
    "\n",
    "for i in range(num):\n",
    "    print i, name+str(i)\n",
    "    image = cv2.imread(path + name + str(i) + '.png')\n",
    "    image = cv2.cvtColor(image, cv2.COLOR_BGR2RGB)  # RGB\n",
    "    image = process_image(image)\n",
    "    X_test.append(image)\n",
    "    \n",
    "X_test = np.concatenate(X_test, axis=0)"
   ]
  },
  {
   "cell_type": "code",
   "execution_count": 4,
   "metadata": {
    "scrolled": false
   },
   "outputs": [
    {
     "name": "stderr",
     "output_type": "stream",
     "text": [
      "/home/student/.local/lib/python2.7/site-packages/keras/engine/saving.py:292: UserWarning: No training configuration found in save file: the model was *not* compiled. Compile it manually.\n",
      "  warnings.warn('No training configuration found in save file: '\n"
     ]
    }
   ],
   "source": [
    "sess = tf.InteractiveSession()\n",
    "init = tf.global_variables_initializer()\n",
    "sess.run(init)\n",
    "ORACLE = YOLO(0.6, 0.5)\n",
    "attacker = Daedalus(sess, ORACLE, initial_consts=100, attack_mode='same', target_class='sheep')"
   ]
  },
  {
   "cell_type": "code",
   "execution_count": null,
   "metadata": {
    "scrolled": true
   },
   "outputs": [
    {
     "name": "stdout",
     "output_type": "stream",
     "text": [
      "sample:   30\n",
      "\n",
      "parameter C is  100\n",
      "\n",
      "========iteration: 0 ========\n",
      "tot losses:  100.259\n",
      "func losses:  1.003\n",
      "adv losses:  0.0\n",
      "\n",
      "========iteration: 1000 ========\n",
      "tot losses:  100.233\n",
      "func losses:  1.002\n",
      "adv losses:  0.042\n",
      "\n",
      "========iteration: 2000 ========\n",
      "tot losses:  100.237\n",
      "func losses:  1.002\n",
      "adv losses:  0.048\n",
      "\n",
      "parameter C is  1000\n",
      "\n",
      "========iteration: 0 ========\n",
      "tot losses:  1002.593\n",
      "func losses:  1.003\n",
      "adv losses:  0.0\n"
     ]
    },
    {
     "name": "stderr",
     "output_type": "stream",
     "text": [
      "/home/student/.local/lib/python2.7/site-packages/skimage/util/dtype.py:141: UserWarning: Possible precision loss when converting from float32 to uint8\n",
      "  .format(dtypeobj_in, dtypeobj_out))\n"
     ]
    },
    {
     "name": "stdout",
     "output_type": "stream",
     "text": [
      "sample:   29\n",
      "\n",
      "parameter C is  100\n",
      "\n",
      "========iteration: 0 ========\n",
      "tot losses:  100.12\n",
      "func losses:  1.001\n",
      "adv losses:  0.0\n"
     ]
    }
   ],
   "source": [
    "pre = False\n",
    "sav = True\n",
    "\n",
    "for i in range(num, 0, -1):\n",
    "    print 'sample:  ', i-1\n",
    "    \n",
    "    X_adv, distortions = attacker.attack(X_test[i-1])\n",
    "    \n",
    "    if pre:\n",
    "        boxes, classes, scores = ORACLE.predict(X_adv[np.newaxis,:,:,:], [416,416])\n",
    "        vis_bbox(X_adv, boxes, classes, scores)\n",
    "    if sav:\n",
    "        io.imsave('samples/adv_'+str(i-1)+'.png', X_adv)\n",
    "        #np.save('samples/adv_'+str(i)+'.npy', distortions)"
   ]
  },
  {
   "cell_type": "code",
   "execution_count": null,
   "metadata": {
    "collapsed": true
   },
   "outputs": [],
   "source": []
  }
 ],
 "metadata": {
  "kernelspec": {
   "display_name": "Python 3",
   "language": "python",
   "name": "python3"
  },
  "language_info": {
   "codemirror_mode": {
    "name": "ipython",
    "version": 2
   },
   "file_extension": ".py",
   "mimetype": "text/x-python",
   "name": "python",
   "nbconvert_exporter": "python",
   "pygments_lexer": "ipython2",
   "version": "2.7.12"
  }
 },
 "nbformat": 4,
 "nbformat_minor": 2
}
