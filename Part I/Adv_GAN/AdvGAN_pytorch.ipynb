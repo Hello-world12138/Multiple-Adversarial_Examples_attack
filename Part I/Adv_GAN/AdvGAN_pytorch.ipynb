{
  "nbformat": 4,
  "nbformat_minor": 0,
  "metadata": {
    "accelerator": "GPU",
    "colab": {
      "name": "AdvGAN_pytorch.ipynb",
      "provenance": [],
      "collapsed_sections": []
    },
    "kernelspec": {
      "display_name": "pytorch_gpu",
      "language": "python",
      "name": "pytorch_gpu_env"
    },
    "language_info": {
      "codemirror_mode": {
        "name": "ipython",
        "version": 3
      },
      "file_extension": ".py",
      "mimetype": "text/x-python",
      "name": "python",
      "nbconvert_exporter": "python",
      "pygments_lexer": "ipython3",
      "version": "3.6.5"
    },
    "widgets": {
      "application/vnd.jupyter.widget-state+json": {
        "90d0591aa706459582327510261dbf39": {
          "model_module": "@jupyter-widgets/controls",
          "model_name": "HBoxModel",
          "state": {
            "_view_name": "HBoxView",
            "_dom_classes": [],
            "_model_name": "HBoxModel",
            "_view_module": "@jupyter-widgets/controls",
            "_model_module_version": "1.5.0",
            "_view_count": null,
            "_view_module_version": "1.5.0",
            "box_style": "",
            "layout": "IPY_MODEL_6631935e3d4c4c5fa330c90586ed460a",
            "_model_module": "@jupyter-widgets/controls",
            "children": [
              "IPY_MODEL_b262021f469d4f38ab07fd15835f5da5",
              "IPY_MODEL_923eedf8fc9549e3a4e874e284109e14"
            ]
          }
        },
        "6631935e3d4c4c5fa330c90586ed460a": {
          "model_module": "@jupyter-widgets/base",
          "model_name": "LayoutModel",
          "state": {
            "_view_name": "LayoutView",
            "grid_template_rows": null,
            "right": null,
            "justify_content": null,
            "_view_module": "@jupyter-widgets/base",
            "overflow": null,
            "_model_module_version": "1.2.0",
            "_view_count": null,
            "flex_flow": null,
            "width": null,
            "min_width": null,
            "border": null,
            "align_items": null,
            "bottom": null,
            "_model_module": "@jupyter-widgets/base",
            "top": null,
            "grid_column": null,
            "overflow_y": null,
            "overflow_x": null,
            "grid_auto_flow": null,
            "grid_area": null,
            "grid_template_columns": null,
            "flex": null,
            "_model_name": "LayoutModel",
            "justify_items": null,
            "grid_row": null,
            "max_height": null,
            "align_content": null,
            "visibility": null,
            "align_self": null,
            "height": null,
            "min_height": null,
            "padding": null,
            "grid_auto_rows": null,
            "grid_gap": null,
            "max_width": null,
            "order": null,
            "_view_module_version": "1.2.0",
            "grid_template_areas": null,
            "object_position": null,
            "object_fit": null,
            "grid_auto_columns": null,
            "margin": null,
            "display": null,
            "left": null
          }
        },
        "b262021f469d4f38ab07fd15835f5da5": {
          "model_module": "@jupyter-widgets/controls",
          "model_name": "IntProgressModel",
          "state": {
            "_view_name": "ProgressView",
            "style": "IPY_MODEL_1c1de8a900b243ac840949aa883b9f03",
            "_dom_classes": [],
            "description": "",
            "_model_name": "IntProgressModel",
            "bar_style": "success",
            "max": 1,
            "_view_module": "@jupyter-widgets/controls",
            "_model_module_version": "1.5.0",
            "value": 1,
            "_view_count": null,
            "_view_module_version": "1.5.0",
            "orientation": "horizontal",
            "min": 0,
            "description_tooltip": null,
            "_model_module": "@jupyter-widgets/controls",
            "layout": "IPY_MODEL_f281157b69ef4223a291604a726ee0c3"
          }
        },
        "923eedf8fc9549e3a4e874e284109e14": {
          "model_module": "@jupyter-widgets/controls",
          "model_name": "HTMLModel",
          "state": {
            "_view_name": "HTMLView",
            "style": "IPY_MODEL_9871902bd02b4430b8bd5b48f9bc9a19",
            "_dom_classes": [],
            "description": "",
            "_model_name": "HTMLModel",
            "placeholder": "​",
            "_view_module": "@jupyter-widgets/controls",
            "_model_module_version": "1.5.0",
            "value": "9920512it [00:03, 3300194.93it/s]",
            "_view_count": null,
            "_view_module_version": "1.5.0",
            "description_tooltip": null,
            "_model_module": "@jupyter-widgets/controls",
            "layout": "IPY_MODEL_13ee9a39a1f246718953a5f2cc7aa160"
          }
        },
        "1c1de8a900b243ac840949aa883b9f03": {
          "model_module": "@jupyter-widgets/controls",
          "model_name": "ProgressStyleModel",
          "state": {
            "_view_name": "StyleView",
            "_model_name": "ProgressStyleModel",
            "description_width": "",
            "_view_module": "@jupyter-widgets/base",
            "_model_module_version": "1.5.0",
            "_view_count": null,
            "_view_module_version": "1.2.0",
            "bar_color": null,
            "_model_module": "@jupyter-widgets/controls"
          }
        },
        "f281157b69ef4223a291604a726ee0c3": {
          "model_module": "@jupyter-widgets/base",
          "model_name": "LayoutModel",
          "state": {
            "_view_name": "LayoutView",
            "grid_template_rows": null,
            "right": null,
            "justify_content": null,
            "_view_module": "@jupyter-widgets/base",
            "overflow": null,
            "_model_module_version": "1.2.0",
            "_view_count": null,
            "flex_flow": null,
            "width": null,
            "min_width": null,
            "border": null,
            "align_items": null,
            "bottom": null,
            "_model_module": "@jupyter-widgets/base",
            "top": null,
            "grid_column": null,
            "overflow_y": null,
            "overflow_x": null,
            "grid_auto_flow": null,
            "grid_area": null,
            "grid_template_columns": null,
            "flex": null,
            "_model_name": "LayoutModel",
            "justify_items": null,
            "grid_row": null,
            "max_height": null,
            "align_content": null,
            "visibility": null,
            "align_self": null,
            "height": null,
            "min_height": null,
            "padding": null,
            "grid_auto_rows": null,
            "grid_gap": null,
            "max_width": null,
            "order": null,
            "_view_module_version": "1.2.0",
            "grid_template_areas": null,
            "object_position": null,
            "object_fit": null,
            "grid_auto_columns": null,
            "margin": null,
            "display": null,
            "left": null
          }
        },
        "9871902bd02b4430b8bd5b48f9bc9a19": {
          "model_module": "@jupyter-widgets/controls",
          "model_name": "DescriptionStyleModel",
          "state": {
            "_view_name": "StyleView",
            "_model_name": "DescriptionStyleModel",
            "description_width": "",
            "_view_module": "@jupyter-widgets/base",
            "_model_module_version": "1.5.0",
            "_view_count": null,
            "_view_module_version": "1.2.0",
            "_model_module": "@jupyter-widgets/controls"
          }
        },
        "13ee9a39a1f246718953a5f2cc7aa160": {
          "model_module": "@jupyter-widgets/base",
          "model_name": "LayoutModel",
          "state": {
            "_view_name": "LayoutView",
            "grid_template_rows": null,
            "right": null,
            "justify_content": null,
            "_view_module": "@jupyter-widgets/base",
            "overflow": null,
            "_model_module_version": "1.2.0",
            "_view_count": null,
            "flex_flow": null,
            "width": null,
            "min_width": null,
            "border": null,
            "align_items": null,
            "bottom": null,
            "_model_module": "@jupyter-widgets/base",
            "top": null,
            "grid_column": null,
            "overflow_y": null,
            "overflow_x": null,
            "grid_auto_flow": null,
            "grid_area": null,
            "grid_template_columns": null,
            "flex": null,
            "_model_name": "LayoutModel",
            "justify_items": null,
            "grid_row": null,
            "max_height": null,
            "align_content": null,
            "visibility": null,
            "align_self": null,
            "height": null,
            "min_height": null,
            "padding": null,
            "grid_auto_rows": null,
            "grid_gap": null,
            "max_width": null,
            "order": null,
            "_view_module_version": "1.2.0",
            "grid_template_areas": null,
            "object_position": null,
            "object_fit": null,
            "grid_auto_columns": null,
            "margin": null,
            "display": null,
            "left": null
          }
        },
        "63f338dcd71c4737bf738d936b2d4acf": {
          "model_module": "@jupyter-widgets/controls",
          "model_name": "HBoxModel",
          "state": {
            "_view_name": "HBoxView",
            "_dom_classes": [],
            "_model_name": "HBoxModel",
            "_view_module": "@jupyter-widgets/controls",
            "_model_module_version": "1.5.0",
            "_view_count": null,
            "_view_module_version": "1.5.0",
            "box_style": "",
            "layout": "IPY_MODEL_f892d5c569e0484c8d3bf45a2d08d906",
            "_model_module": "@jupyter-widgets/controls",
            "children": [
              "IPY_MODEL_75a00a01a73b45bf989b6a97cd7c9a29",
              "IPY_MODEL_1925ee87a1b34f89bf7582eec1c5b529"
            ]
          }
        },
        "f892d5c569e0484c8d3bf45a2d08d906": {
          "model_module": "@jupyter-widgets/base",
          "model_name": "LayoutModel",
          "state": {
            "_view_name": "LayoutView",
            "grid_template_rows": null,
            "right": null,
            "justify_content": null,
            "_view_module": "@jupyter-widgets/base",
            "overflow": null,
            "_model_module_version": "1.2.0",
            "_view_count": null,
            "flex_flow": null,
            "width": null,
            "min_width": null,
            "border": null,
            "align_items": null,
            "bottom": null,
            "_model_module": "@jupyter-widgets/base",
            "top": null,
            "grid_column": null,
            "overflow_y": null,
            "overflow_x": null,
            "grid_auto_flow": null,
            "grid_area": null,
            "grid_template_columns": null,
            "flex": null,
            "_model_name": "LayoutModel",
            "justify_items": null,
            "grid_row": null,
            "max_height": null,
            "align_content": null,
            "visibility": null,
            "align_self": null,
            "height": null,
            "min_height": null,
            "padding": null,
            "grid_auto_rows": null,
            "grid_gap": null,
            "max_width": null,
            "order": null,
            "_view_module_version": "1.2.0",
            "grid_template_areas": null,
            "object_position": null,
            "object_fit": null,
            "grid_auto_columns": null,
            "margin": null,
            "display": null,
            "left": null
          }
        },
        "75a00a01a73b45bf989b6a97cd7c9a29": {
          "model_module": "@jupyter-widgets/controls",
          "model_name": "IntProgressModel",
          "state": {
            "_view_name": "ProgressView",
            "style": "IPY_MODEL_1198de90832e4defb58d7f196589d2ae",
            "_dom_classes": [],
            "description": "",
            "_model_name": "IntProgressModel",
            "bar_style": "success",
            "max": 1,
            "_view_module": "@jupyter-widgets/controls",
            "_model_module_version": "1.5.0",
            "value": 1,
            "_view_count": null,
            "_view_module_version": "1.5.0",
            "orientation": "horizontal",
            "min": 0,
            "description_tooltip": null,
            "_model_module": "@jupyter-widgets/controls",
            "layout": "IPY_MODEL_083b06d381504d61a9796e1deef7cda3"
          }
        },
        "1925ee87a1b34f89bf7582eec1c5b529": {
          "model_module": "@jupyter-widgets/controls",
          "model_name": "HTMLModel",
          "state": {
            "_view_name": "HTMLView",
            "style": "IPY_MODEL_fd67d72882a44d3cb0869ba44b95bc75",
            "_dom_classes": [],
            "description": "",
            "_model_name": "HTMLModel",
            "placeholder": "​",
            "_view_module": "@jupyter-widgets/controls",
            "_model_module_version": "1.5.0",
            "value": "32768it [00:00, 46538.14it/s]",
            "_view_count": null,
            "_view_module_version": "1.5.0",
            "description_tooltip": null,
            "_model_module": "@jupyter-widgets/controls",
            "layout": "IPY_MODEL_12e5421bd8344559abf244d9669f37ee"
          }
        },
        "1198de90832e4defb58d7f196589d2ae": {
          "model_module": "@jupyter-widgets/controls",
          "model_name": "ProgressStyleModel",
          "state": {
            "_view_name": "StyleView",
            "_model_name": "ProgressStyleModel",
            "description_width": "",
            "_view_module": "@jupyter-widgets/base",
            "_model_module_version": "1.5.0",
            "_view_count": null,
            "_view_module_version": "1.2.0",
            "bar_color": null,
            "_model_module": "@jupyter-widgets/controls"
          }
        },
        "083b06d381504d61a9796e1deef7cda3": {
          "model_module": "@jupyter-widgets/base",
          "model_name": "LayoutModel",
          "state": {
            "_view_name": "LayoutView",
            "grid_template_rows": null,
            "right": null,
            "justify_content": null,
            "_view_module": "@jupyter-widgets/base",
            "overflow": null,
            "_model_module_version": "1.2.0",
            "_view_count": null,
            "flex_flow": null,
            "width": null,
            "min_width": null,
            "border": null,
            "align_items": null,
            "bottom": null,
            "_model_module": "@jupyter-widgets/base",
            "top": null,
            "grid_column": null,
            "overflow_y": null,
            "overflow_x": null,
            "grid_auto_flow": null,
            "grid_area": null,
            "grid_template_columns": null,
            "flex": null,
            "_model_name": "LayoutModel",
            "justify_items": null,
            "grid_row": null,
            "max_height": null,
            "align_content": null,
            "visibility": null,
            "align_self": null,
            "height": null,
            "min_height": null,
            "padding": null,
            "grid_auto_rows": null,
            "grid_gap": null,
            "max_width": null,
            "order": null,
            "_view_module_version": "1.2.0",
            "grid_template_areas": null,
            "object_position": null,
            "object_fit": null,
            "grid_auto_columns": null,
            "margin": null,
            "display": null,
            "left": null
          }
        },
        "fd67d72882a44d3cb0869ba44b95bc75": {
          "model_module": "@jupyter-widgets/controls",
          "model_name": "DescriptionStyleModel",
          "state": {
            "_view_name": "StyleView",
            "_model_name": "DescriptionStyleModel",
            "description_width": "",
            "_view_module": "@jupyter-widgets/base",
            "_model_module_version": "1.5.0",
            "_view_count": null,
            "_view_module_version": "1.2.0",
            "_model_module": "@jupyter-widgets/controls"
          }
        },
        "12e5421bd8344559abf244d9669f37ee": {
          "model_module": "@jupyter-widgets/base",
          "model_name": "LayoutModel",
          "state": {
            "_view_name": "LayoutView",
            "grid_template_rows": null,
            "right": null,
            "justify_content": null,
            "_view_module": "@jupyter-widgets/base",
            "overflow": null,
            "_model_module_version": "1.2.0",
            "_view_count": null,
            "flex_flow": null,
            "width": null,
            "min_width": null,
            "border": null,
            "align_items": null,
            "bottom": null,
            "_model_module": "@jupyter-widgets/base",
            "top": null,
            "grid_column": null,
            "overflow_y": null,
            "overflow_x": null,
            "grid_auto_flow": null,
            "grid_area": null,
            "grid_template_columns": null,
            "flex": null,
            "_model_name": "LayoutModel",
            "justify_items": null,
            "grid_row": null,
            "max_height": null,
            "align_content": null,
            "visibility": null,
            "align_self": null,
            "height": null,
            "min_height": null,
            "padding": null,
            "grid_auto_rows": null,
            "grid_gap": null,
            "max_width": null,
            "order": null,
            "_view_module_version": "1.2.0",
            "grid_template_areas": null,
            "object_position": null,
            "object_fit": null,
            "grid_auto_columns": null,
            "margin": null,
            "display": null,
            "left": null
          }
        },
        "09c01f3647bf4e4bbde60aed99fa0525": {
          "model_module": "@jupyter-widgets/controls",
          "model_name": "HBoxModel",
          "state": {
            "_view_name": "HBoxView",
            "_dom_classes": [],
            "_model_name": "HBoxModel",
            "_view_module": "@jupyter-widgets/controls",
            "_model_module_version": "1.5.0",
            "_view_count": null,
            "_view_module_version": "1.5.0",
            "box_style": "",
            "layout": "IPY_MODEL_837980aa4e7349da9bb1c31c3c84483e",
            "_model_module": "@jupyter-widgets/controls",
            "children": [
              "IPY_MODEL_bae8510f1c684c2fa8e5d1d3c11f6760",
              "IPY_MODEL_650a156298f44e14a4774c6b4425ccf9"
            ]
          }
        },
        "837980aa4e7349da9bb1c31c3c84483e": {
          "model_module": "@jupyter-widgets/base",
          "model_name": "LayoutModel",
          "state": {
            "_view_name": "LayoutView",
            "grid_template_rows": null,
            "right": null,
            "justify_content": null,
            "_view_module": "@jupyter-widgets/base",
            "overflow": null,
            "_model_module_version": "1.2.0",
            "_view_count": null,
            "flex_flow": null,
            "width": null,
            "min_width": null,
            "border": null,
            "align_items": null,
            "bottom": null,
            "_model_module": "@jupyter-widgets/base",
            "top": null,
            "grid_column": null,
            "overflow_y": null,
            "overflow_x": null,
            "grid_auto_flow": null,
            "grid_area": null,
            "grid_template_columns": null,
            "flex": null,
            "_model_name": "LayoutModel",
            "justify_items": null,
            "grid_row": null,
            "max_height": null,
            "align_content": null,
            "visibility": null,
            "align_self": null,
            "height": null,
            "min_height": null,
            "padding": null,
            "grid_auto_rows": null,
            "grid_gap": null,
            "max_width": null,
            "order": null,
            "_view_module_version": "1.2.0",
            "grid_template_areas": null,
            "object_position": null,
            "object_fit": null,
            "grid_auto_columns": null,
            "margin": null,
            "display": null,
            "left": null
          }
        },
        "bae8510f1c684c2fa8e5d1d3c11f6760": {
          "model_module": "@jupyter-widgets/controls",
          "model_name": "IntProgressModel",
          "state": {
            "_view_name": "ProgressView",
            "style": "IPY_MODEL_5271f647c50e4cd98f3b12b3ddbe38b5",
            "_dom_classes": [],
            "description": "",
            "_model_name": "IntProgressModel",
            "bar_style": "success",
            "max": 1,
            "_view_module": "@jupyter-widgets/controls",
            "_model_module_version": "1.5.0",
            "value": 1,
            "_view_count": null,
            "_view_module_version": "1.5.0",
            "orientation": "horizontal",
            "min": 0,
            "description_tooltip": null,
            "_model_module": "@jupyter-widgets/controls",
            "layout": "IPY_MODEL_76ff7148b7fb4b1f96c7bd44e47e9275"
          }
        },
        "650a156298f44e14a4774c6b4425ccf9": {
          "model_module": "@jupyter-widgets/controls",
          "model_name": "HTMLModel",
          "state": {
            "_view_name": "HTMLView",
            "style": "IPY_MODEL_d568bbcd380f4cd191b47bac387a6f9d",
            "_dom_classes": [],
            "description": "",
            "_model_name": "HTMLModel",
            "placeholder": "​",
            "_view_module": "@jupyter-widgets/controls",
            "_model_module_version": "1.5.0",
            "value": "1654784it [00:02, 798862.17it/s]",
            "_view_count": null,
            "_view_module_version": "1.5.0",
            "description_tooltip": null,
            "_model_module": "@jupyter-widgets/controls",
            "layout": "IPY_MODEL_de1e8cc2347b49319eea9be6c46cdf1b"
          }
        },
        "5271f647c50e4cd98f3b12b3ddbe38b5": {
          "model_module": "@jupyter-widgets/controls",
          "model_name": "ProgressStyleModel",
          "state": {
            "_view_name": "StyleView",
            "_model_name": "ProgressStyleModel",
            "description_width": "",
            "_view_module": "@jupyter-widgets/base",
            "_model_module_version": "1.5.0",
            "_view_count": null,
            "_view_module_version": "1.2.0",
            "bar_color": null,
            "_model_module": "@jupyter-widgets/controls"
          }
        },
        "76ff7148b7fb4b1f96c7bd44e47e9275": {
          "model_module": "@jupyter-widgets/base",
          "model_name": "LayoutModel",
          "state": {
            "_view_name": "LayoutView",
            "grid_template_rows": null,
            "right": null,
            "justify_content": null,
            "_view_module": "@jupyter-widgets/base",
            "overflow": null,
            "_model_module_version": "1.2.0",
            "_view_count": null,
            "flex_flow": null,
            "width": null,
            "min_width": null,
            "border": null,
            "align_items": null,
            "bottom": null,
            "_model_module": "@jupyter-widgets/base",
            "top": null,
            "grid_column": null,
            "overflow_y": null,
            "overflow_x": null,
            "grid_auto_flow": null,
            "grid_area": null,
            "grid_template_columns": null,
            "flex": null,
            "_model_name": "LayoutModel",
            "justify_items": null,
            "grid_row": null,
            "max_height": null,
            "align_content": null,
            "visibility": null,
            "align_self": null,
            "height": null,
            "min_height": null,
            "padding": null,
            "grid_auto_rows": null,
            "grid_gap": null,
            "max_width": null,
            "order": null,
            "_view_module_version": "1.2.0",
            "grid_template_areas": null,
            "object_position": null,
            "object_fit": null,
            "grid_auto_columns": null,
            "margin": null,
            "display": null,
            "left": null
          }
        },
        "d568bbcd380f4cd191b47bac387a6f9d": {
          "model_module": "@jupyter-widgets/controls",
          "model_name": "DescriptionStyleModel",
          "state": {
            "_view_name": "StyleView",
            "_model_name": "DescriptionStyleModel",
            "description_width": "",
            "_view_module": "@jupyter-widgets/base",
            "_model_module_version": "1.5.0",
            "_view_count": null,
            "_view_module_version": "1.2.0",
            "_model_module": "@jupyter-widgets/controls"
          }
        },
        "de1e8cc2347b49319eea9be6c46cdf1b": {
          "model_module": "@jupyter-widgets/base",
          "model_name": "LayoutModel",
          "state": {
            "_view_name": "LayoutView",
            "grid_template_rows": null,
            "right": null,
            "justify_content": null,
            "_view_module": "@jupyter-widgets/base",
            "overflow": null,
            "_model_module_version": "1.2.0",
            "_view_count": null,
            "flex_flow": null,
            "width": null,
            "min_width": null,
            "border": null,
            "align_items": null,
            "bottom": null,
            "_model_module": "@jupyter-widgets/base",
            "top": null,
            "grid_column": null,
            "overflow_y": null,
            "overflow_x": null,
            "grid_auto_flow": null,
            "grid_area": null,
            "grid_template_columns": null,
            "flex": null,
            "_model_name": "LayoutModel",
            "justify_items": null,
            "grid_row": null,
            "max_height": null,
            "align_content": null,
            "visibility": null,
            "align_self": null,
            "height": null,
            "min_height": null,
            "padding": null,
            "grid_auto_rows": null,
            "grid_gap": null,
            "max_width": null,
            "order": null,
            "_view_module_version": "1.2.0",
            "grid_template_areas": null,
            "object_position": null,
            "object_fit": null,
            "grid_auto_columns": null,
            "margin": null,
            "display": null,
            "left": null
          }
        },
        "e3023296d0034fbbb4eaa925badab5ba": {
          "model_module": "@jupyter-widgets/controls",
          "model_name": "HBoxModel",
          "state": {
            "_view_name": "HBoxView",
            "_dom_classes": [],
            "_model_name": "HBoxModel",
            "_view_module": "@jupyter-widgets/controls",
            "_model_module_version": "1.5.0",
            "_view_count": null,
            "_view_module_version": "1.5.0",
            "box_style": "",
            "layout": "IPY_MODEL_d809f88bc4574a7e91300a14fc47d68b",
            "_model_module": "@jupyter-widgets/controls",
            "children": [
              "IPY_MODEL_37cb83bc0820401f882b2b80f9d70d35",
              "IPY_MODEL_c47954db4ba044a090f10079660829e1"
            ]
          }
        },
        "d809f88bc4574a7e91300a14fc47d68b": {
          "model_module": "@jupyter-widgets/base",
          "model_name": "LayoutModel",
          "state": {
            "_view_name": "LayoutView",
            "grid_template_rows": null,
            "right": null,
            "justify_content": null,
            "_view_module": "@jupyter-widgets/base",
            "overflow": null,
            "_model_module_version": "1.2.0",
            "_view_count": null,
            "flex_flow": null,
            "width": null,
            "min_width": null,
            "border": null,
            "align_items": null,
            "bottom": null,
            "_model_module": "@jupyter-widgets/base",
            "top": null,
            "grid_column": null,
            "overflow_y": null,
            "overflow_x": null,
            "grid_auto_flow": null,
            "grid_area": null,
            "grid_template_columns": null,
            "flex": null,
            "_model_name": "LayoutModel",
            "justify_items": null,
            "grid_row": null,
            "max_height": null,
            "align_content": null,
            "visibility": null,
            "align_self": null,
            "height": null,
            "min_height": null,
            "padding": null,
            "grid_auto_rows": null,
            "grid_gap": null,
            "max_width": null,
            "order": null,
            "_view_module_version": "1.2.0",
            "grid_template_areas": null,
            "object_position": null,
            "object_fit": null,
            "grid_auto_columns": null,
            "margin": null,
            "display": null,
            "left": null
          }
        },
        "37cb83bc0820401f882b2b80f9d70d35": {
          "model_module": "@jupyter-widgets/controls",
          "model_name": "IntProgressModel",
          "state": {
            "_view_name": "ProgressView",
            "style": "IPY_MODEL_dc39a829423f45a98d764bd57a1d782c",
            "_dom_classes": [],
            "description": "",
            "_model_name": "IntProgressModel",
            "bar_style": "success",
            "max": 1,
            "_view_module": "@jupyter-widgets/controls",
            "_model_module_version": "1.5.0",
            "value": 1,
            "_view_count": null,
            "_view_module_version": "1.5.0",
            "orientation": "horizontal",
            "min": 0,
            "description_tooltip": null,
            "_model_module": "@jupyter-widgets/controls",
            "layout": "IPY_MODEL_b2878f05eb464470b52724aa706da6bc"
          }
        },
        "c47954db4ba044a090f10079660829e1": {
          "model_module": "@jupyter-widgets/controls",
          "model_name": "HTMLModel",
          "state": {
            "_view_name": "HTMLView",
            "style": "IPY_MODEL_5cd5d49dc21c403ca18a24acadd0c7f7",
            "_dom_classes": [],
            "description": "",
            "_model_name": "HTMLModel",
            "placeholder": "​",
            "_view_module": "@jupyter-widgets/controls",
            "_model_module_version": "1.5.0",
            "value": "8192it [00:00, 17415.99it/s]",
            "_view_count": null,
            "_view_module_version": "1.5.0",
            "description_tooltip": null,
            "_model_module": "@jupyter-widgets/controls",
            "layout": "IPY_MODEL_6c14e2c358db42b9a0f866a11f36331c"
          }
        },
        "dc39a829423f45a98d764bd57a1d782c": {
          "model_module": "@jupyter-widgets/controls",
          "model_name": "ProgressStyleModel",
          "state": {
            "_view_name": "StyleView",
            "_model_name": "ProgressStyleModel",
            "description_width": "",
            "_view_module": "@jupyter-widgets/base",
            "_model_module_version": "1.5.0",
            "_view_count": null,
            "_view_module_version": "1.2.0",
            "bar_color": null,
            "_model_module": "@jupyter-widgets/controls"
          }
        },
        "b2878f05eb464470b52724aa706da6bc": {
          "model_module": "@jupyter-widgets/base",
          "model_name": "LayoutModel",
          "state": {
            "_view_name": "LayoutView",
            "grid_template_rows": null,
            "right": null,
            "justify_content": null,
            "_view_module": "@jupyter-widgets/base",
            "overflow": null,
            "_model_module_version": "1.2.0",
            "_view_count": null,
            "flex_flow": null,
            "width": null,
            "min_width": null,
            "border": null,
            "align_items": null,
            "bottom": null,
            "_model_module": "@jupyter-widgets/base",
            "top": null,
            "grid_column": null,
            "overflow_y": null,
            "overflow_x": null,
            "grid_auto_flow": null,
            "grid_area": null,
            "grid_template_columns": null,
            "flex": null,
            "_model_name": "LayoutModel",
            "justify_items": null,
            "grid_row": null,
            "max_height": null,
            "align_content": null,
            "visibility": null,
            "align_self": null,
            "height": null,
            "min_height": null,
            "padding": null,
            "grid_auto_rows": null,
            "grid_gap": null,
            "max_width": null,
            "order": null,
            "_view_module_version": "1.2.0",
            "grid_template_areas": null,
            "object_position": null,
            "object_fit": null,
            "grid_auto_columns": null,
            "margin": null,
            "display": null,
            "left": null
          }
        },
        "5cd5d49dc21c403ca18a24acadd0c7f7": {
          "model_module": "@jupyter-widgets/controls",
          "model_name": "DescriptionStyleModel",
          "state": {
            "_view_name": "StyleView",
            "_model_name": "DescriptionStyleModel",
            "description_width": "",
            "_view_module": "@jupyter-widgets/base",
            "_model_module_version": "1.5.0",
            "_view_count": null,
            "_view_module_version": "1.2.0",
            "_model_module": "@jupyter-widgets/controls"
          }
        },
        "6c14e2c358db42b9a0f866a11f36331c": {
          "model_module": "@jupyter-widgets/base",
          "model_name": "LayoutModel",
          "state": {
            "_view_name": "LayoutView",
            "grid_template_rows": null,
            "right": null,
            "justify_content": null,
            "_view_module": "@jupyter-widgets/base",
            "overflow": null,
            "_model_module_version": "1.2.0",
            "_view_count": null,
            "flex_flow": null,
            "width": null,
            "min_width": null,
            "border": null,
            "align_items": null,
            "bottom": null,
            "_model_module": "@jupyter-widgets/base",
            "top": null,
            "grid_column": null,
            "overflow_y": null,
            "overflow_x": null,
            "grid_auto_flow": null,
            "grid_area": null,
            "grid_template_columns": null,
            "flex": null,
            "_model_name": "LayoutModel",
            "justify_items": null,
            "grid_row": null,
            "max_height": null,
            "align_content": null,
            "visibility": null,
            "align_self": null,
            "height": null,
            "min_height": null,
            "padding": null,
            "grid_auto_rows": null,
            "grid_gap": null,
            "max_width": null,
            "order": null,
            "_view_module_version": "1.2.0",
            "grid_template_areas": null,
            "object_position": null,
            "object_fit": null,
            "grid_auto_columns": null,
            "margin": null,
            "display": null,
            "left": null
          }
        }
      }
    }
  },
  "cells": [
    {
      "cell_type": "markdown",
      "metadata": {
        "colab_type": "text",
        "id": "t7Gau0qFFO9i"
      },
      "source": [
        "# Adv_GAN\n",
        "a Pytorch implementation of the paper \"Generating Adversarial Examples with Adversarial Networks\" (advGAN)."
      ]
    },
    {
      "cell_type": "markdown",
      "metadata": {
        "colab_type": "text",
        "id": "mZ0lCwHFFrMH"
      },
      "source": [
        "## 1. 导入一些第三方库"
      ]
    },
    {
      "cell_type": "code",
      "metadata": {
        "colab_type": "code",
        "id": "g9B2uwTaFAOC",
        "colab": {}
      },
      "source": [
        "import torch\n",
        "import torch.nn as nn\n",
        "import torch.nn.functional as F\n",
        "from torch.utils.data import DataLoader\n",
        "\n",
        "import torchvision.datasets\n",
        "import torchvision.transforms as transforms\n"
      ],
      "execution_count": 0,
      "outputs": []
    },
    {
      "cell_type": "markdown",
      "metadata": {
        "colab_type": "text",
        "id": "DIdJkgvWGC-0"
      },
      "source": [
        "## 2. 待攻击的目标模型"
      ]
    },
    {
      "cell_type": "markdown",
      "metadata": {
        "id": "f4lQfnfCo043",
        "colab_type": "text"
      },
      "source": [
        "### 2.1 定义目标模型的类"
      ]
    },
    {
      "cell_type": "code",
      "metadata": {
        "colab_type": "code",
        "id": "3yt1GINIF9Cc",
        "colab": {}
      },
      "source": [
        "class MNIST_target_net(nn.Module):\n",
        "    \n",
        "    def __init__(self):\n",
        "        super(MNIST_target_net, self).__init__()\n",
        "        self.conv1 = nn.Conv2d(1, 32, kernel_size=3)\n",
        "        self.conv2 = nn.Conv2d(32, 32, kernel_size=3)\n",
        "        self.conv3 = nn.Conv2d(32, 64, kernel_size=3)\n",
        "        self.conv4 = nn.Conv2d(64, 64, kernel_size=3)\n",
        "        self.fc1 = nn.Linear(64*4*4, 200)\n",
        "        self.fc2 = nn.Linear(200, 200)\n",
        "        self.logits = nn.Linear(200, 10)\n",
        "    def forward(self, x):\n",
        "        x = F.relu(self.conv1(x))\n",
        "        x = F.relu(self.conv2(x))\n",
        "        x = F.max_pool2d(x, 2)\n",
        "        x = F.relu(self.conv3(x))\n",
        "        x = F.relu(self.conv4(x))\n",
        "        x = F.max_pool2d(x, 2)\n",
        "        x = x.view(-1, 64*4*4)\n",
        "        x = F.relu(self.fc1(x))\n",
        "        x = F.dropout(x, 0.5)\n",
        "        x = F.relu(self.fc2(x))\n",
        "        x = self.logits(x)\n",
        "        return x"
      ],
      "execution_count": 0,
      "outputs": []
    },
    {
      "cell_type": "markdown",
      "metadata": {
        "id": "7PfgMiovo048",
        "colab_type": "text"
      },
      "source": [
        "### 2.2 产生目标模型"
      ]
    },
    {
      "cell_type": "code",
      "metadata": {
        "id": "F0NnZCKAo049",
        "colab_type": "code",
        "colab": {
          "base_uri": "https://localhost:8080/",
          "height": 34
        },
        "outputId": "bdfa03f9-1e11-4a75-8cfb-ef3b9bff14b7"
      },
      "source": [
        "use_cuda = True\n",
        "image_nc = 1\n",
        "model_batch_size = 256\n",
        "\n",
        "# define what device we are using\n",
        "\n",
        "print(\"CUDA Avaliable: \", torch.cuda.is_available())\n",
        "device = torch.device(\"cuda\" if (use_cuda and torch.cuda.is_available()) else \"cpu\")"
      ],
      "execution_count": 7,
      "outputs": [
        {
          "output_type": "stream",
          "text": [
            "CUDA Avaliable:  True\n"
          ],
          "name": "stdout"
        }
      ]
    },
    {
      "cell_type": "markdown",
      "metadata": {
        "id": "QEOepKf5o05C",
        "colab_type": "text"
      },
      "source": [
        "### 2.3 下载minist数据集"
      ]
    },
    {
      "cell_type": "code",
      "metadata": {
        "id": "kEVL6JiQo05D",
        "colab_type": "code",
        "colab": {
          "base_uri": "https://localhost:8080/",
          "height": 383,
          "referenced_widgets": [
            "90d0591aa706459582327510261dbf39",
            "6631935e3d4c4c5fa330c90586ed460a",
            "b262021f469d4f38ab07fd15835f5da5",
            "923eedf8fc9549e3a4e874e284109e14",
            "1c1de8a900b243ac840949aa883b9f03",
            "f281157b69ef4223a291604a726ee0c3",
            "9871902bd02b4430b8bd5b48f9bc9a19",
            "13ee9a39a1f246718953a5f2cc7aa160",
            "63f338dcd71c4737bf738d936b2d4acf",
            "f892d5c569e0484c8d3bf45a2d08d906",
            "75a00a01a73b45bf989b6a97cd7c9a29",
            "1925ee87a1b34f89bf7582eec1c5b529",
            "1198de90832e4defb58d7f196589d2ae",
            "083b06d381504d61a9796e1deef7cda3",
            "fd67d72882a44d3cb0869ba44b95bc75",
            "12e5421bd8344559abf244d9669f37ee",
            "09c01f3647bf4e4bbde60aed99fa0525",
            "837980aa4e7349da9bb1c31c3c84483e",
            "bae8510f1c684c2fa8e5d1d3c11f6760",
            "650a156298f44e14a4774c6b4425ccf9",
            "5271f647c50e4cd98f3b12b3ddbe38b5",
            "76ff7148b7fb4b1f96c7bd44e47e9275",
            "d568bbcd380f4cd191b47bac387a6f9d",
            "de1e8cc2347b49319eea9be6c46cdf1b",
            "e3023296d0034fbbb4eaa925badab5ba",
            "d809f88bc4574a7e91300a14fc47d68b",
            "37cb83bc0820401f882b2b80f9d70d35",
            "c47954db4ba044a090f10079660829e1",
            "dc39a829423f45a98d764bd57a1d782c",
            "b2878f05eb464470b52724aa706da6bc",
            "5cd5d49dc21c403ca18a24acadd0c7f7",
            "6c14e2c358db42b9a0f866a11f36331c"
          ]
        },
        "outputId": "d0df3943-d8be-45c3-9d54-3b9a45e99396"
      },
      "source": [
        "mnist_dataset = torchvision.datasets.MNIST('./dataset', \n",
        "                                           train=True, \n",
        "                                           transform=transforms.ToTensor(), \n",
        "                                           download=True \n",
        "                                          )\n",
        "train_dataloader = DataLoader(mnist_dataset,\n",
        "                              batch_size=model_batch_size, \n",
        "                              shuffle=False, \n",
        "                              num_workers=1)"
      ],
      "execution_count": 8,
      "outputs": [
        {
          "output_type": "stream",
          "text": [
            "Downloading http://yann.lecun.com/exdb/mnist/train-images-idx3-ubyte.gz to ./dataset/MNIST/raw/train-images-idx3-ubyte.gz\n"
          ],
          "name": "stdout"
        },
        {
          "output_type": "display_data",
          "data": {
            "application/vnd.jupyter.widget-view+json": {
              "model_id": "90d0591aa706459582327510261dbf39",
              "version_minor": 0,
              "version_major": 2
            },
            "text/plain": [
              "HBox(children=(IntProgress(value=1, bar_style='info', max=1), HTML(value='')))"
            ]
          },
          "metadata": {
            "tags": []
          }
        },
        {
          "output_type": "stream",
          "text": [
            "\n",
            "Extracting ./dataset/MNIST/raw/train-images-idx3-ubyte.gz to ./dataset/MNIST/raw\n",
            "Downloading http://yann.lecun.com/exdb/mnist/train-labels-idx1-ubyte.gz to ./dataset/MNIST/raw/train-labels-idx1-ubyte.gz\n"
          ],
          "name": "stdout"
        },
        {
          "output_type": "display_data",
          "data": {
            "application/vnd.jupyter.widget-view+json": {
              "model_id": "63f338dcd71c4737bf738d936b2d4acf",
              "version_minor": 0,
              "version_major": 2
            },
            "text/plain": [
              "HBox(children=(IntProgress(value=1, bar_style='info', max=1), HTML(value='')))"
            ]
          },
          "metadata": {
            "tags": []
          }
        },
        {
          "output_type": "stream",
          "text": [
            "\n",
            "Extracting ./dataset/MNIST/raw/train-labels-idx1-ubyte.gz to ./dataset/MNIST/raw\n",
            "Downloading http://yann.lecun.com/exdb/mnist/t10k-images-idx3-ubyte.gz to ./dataset/MNIST/raw/t10k-images-idx3-ubyte.gz\n"
          ],
          "name": "stdout"
        },
        {
          "output_type": "display_data",
          "data": {
            "application/vnd.jupyter.widget-view+json": {
              "model_id": "09c01f3647bf4e4bbde60aed99fa0525",
              "version_minor": 0,
              "version_major": 2
            },
            "text/plain": [
              "HBox(children=(IntProgress(value=1, bar_style='info', max=1), HTML(value='')))"
            ]
          },
          "metadata": {
            "tags": []
          }
        },
        {
          "output_type": "stream",
          "text": [
            "\n",
            "Extracting ./dataset/MNIST/raw/t10k-images-idx3-ubyte.gz to ./dataset/MNIST/raw\n",
            "Downloading http://yann.lecun.com/exdb/mnist/t10k-labels-idx1-ubyte.gz to ./dataset/MNIST/raw/t10k-labels-idx1-ubyte.gz\n"
          ],
          "name": "stdout"
        },
        {
          "output_type": "display_data",
          "data": {
            "application/vnd.jupyter.widget-view+json": {
              "model_id": "e3023296d0034fbbb4eaa925badab5ba",
              "version_minor": 0,
              "version_major": 2
            },
            "text/plain": [
              "HBox(children=(IntProgress(value=1, bar_style='info', max=1), HTML(value='')))"
            ]
          },
          "metadata": {
            "tags": []
          }
        },
        {
          "output_type": "stream",
          "text": [
            "\n",
            "Extracting ./dataset/MNIST/raw/t10k-labels-idx1-ubyte.gz to ./dataset/MNIST/raw\n",
            "Processing...\n",
            "Done!\n"
          ],
          "name": "stdout"
        }
      ]
    },
    {
      "cell_type": "markdown",
      "metadata": {
        "id": "AfuEihglo05H",
        "colab_type": "text"
      },
      "source": [
        "### 2.4 开始训练目标模型"
      ]
    },
    {
      "cell_type": "code",
      "metadata": {
        "id": "R3n0x879o05I",
        "colab_type": "code",
        "colab": {
          "base_uri": "https://localhost:8080/",
          "height": 697
        },
        "outputId": "81c21a65-96c4-468b-b110-49c5faad55e9"
      },
      "source": [
        "# training the target model\n",
        "target_model = MNIST_target_net().to(device)\n",
        "target_model.train()\n",
        "opt_model = torch.optim.Adam(target_model.parameters(), lr=0.001)\n",
        "epochs = 40\n",
        "for epoch in range(epochs):\n",
        "    loss_epoch = 0\n",
        "    if epoch == 20:\n",
        "        opt_model = torch.optim.Adam(target_model.parameters(), lr=0.0001)\n",
        "    for i, data in enumerate(train_dataloader, 0):\n",
        "        train_imgs, train_labels = data\n",
        "        train_imgs, train_labels = train_imgs.to(device), train_labels.to(device)\n",
        "        logits_model = target_model(train_imgs)\n",
        "        loss_model = F.cross_entropy(logits_model, train_labels)\n",
        "        loss_epoch += loss_model\n",
        "        opt_model.zero_grad()\n",
        "        loss_model.backward()\n",
        "        opt_model.step()\n",
        "\n",
        "    print('loss in epoch %d: %f' % (epoch, loss_epoch.item()))"
      ],
      "execution_count": 9,
      "outputs": [
        {
          "output_type": "stream",
          "text": [
            "loss in epoch 0: 101.177719\n",
            "loss in epoch 1: 26.683292\n",
            "loss in epoch 2: 17.823374\n",
            "loss in epoch 3: 14.675725\n",
            "loss in epoch 4: 11.997814\n",
            "loss in epoch 5: 9.868692\n",
            "loss in epoch 6: 8.840528\n",
            "loss in epoch 7: 7.704131\n",
            "loss in epoch 8: 6.996535\n",
            "loss in epoch 9: 6.211140\n",
            "loss in epoch 10: 6.042154\n",
            "loss in epoch 11: 5.649035\n",
            "loss in epoch 12: 4.948034\n",
            "loss in epoch 13: 4.428883\n",
            "loss in epoch 14: 4.390535\n",
            "loss in epoch 15: 4.021057\n",
            "loss in epoch 16: 3.904166\n",
            "loss in epoch 17: 3.712560\n",
            "loss in epoch 18: 2.778519\n",
            "loss in epoch 19: 3.153136\n",
            "loss in epoch 20: 1.937186\n",
            "loss in epoch 21: 1.355775\n",
            "loss in epoch 22: 1.124467\n",
            "loss in epoch 23: 1.223719\n",
            "loss in epoch 24: 1.018934\n",
            "loss in epoch 25: 0.816988\n",
            "loss in epoch 26: 0.789737\n",
            "loss in epoch 27: 0.580767\n",
            "loss in epoch 28: 0.597177\n",
            "loss in epoch 29: 0.604954\n",
            "loss in epoch 30: 0.493919\n",
            "loss in epoch 31: 0.601661\n",
            "loss in epoch 32: 0.542152\n",
            "loss in epoch 33: 0.489124\n",
            "loss in epoch 34: 0.465762\n",
            "loss in epoch 35: 0.431550\n",
            "loss in epoch 36: 0.433477\n",
            "loss in epoch 37: 0.441761\n",
            "loss in epoch 38: 0.397588\n",
            "loss in epoch 39: 0.403882\n"
          ],
          "name": "stdout"
        }
      ]
    },
    {
      "cell_type": "markdown",
      "metadata": {
        "id": "E70H2g7io05L",
        "colab_type": "text"
      },
      "source": [
        "### 2.5 保存模型"
      ]
    },
    {
      "cell_type": "code",
      "metadata": {
        "id": "FcNNoMdDo05M",
        "colab_type": "code",
        "colab": {
          "base_uri": "https://localhost:8080/",
          "height": 170
        },
        "outputId": "cffdb5c0-047f-4499-9e8a-9f696654527a"
      },
      "source": [
        "# save model\n",
        "targeted_model_file_name = './MNIST_target_model.pth'\n",
        "torch.save(target_model.state_dict(), targeted_model_file_name)\n",
        "target_model.eval()"
      ],
      "execution_count": 10,
      "outputs": [
        {
          "output_type": "execute_result",
          "data": {
            "text/plain": [
              "MNIST_target_net(\n",
              "  (conv1): Conv2d(1, 32, kernel_size=(3, 3), stride=(1, 1))\n",
              "  (conv2): Conv2d(32, 32, kernel_size=(3, 3), stride=(1, 1))\n",
              "  (conv3): Conv2d(32, 64, kernel_size=(3, 3), stride=(1, 1))\n",
              "  (conv4): Conv2d(64, 64, kernel_size=(3, 3), stride=(1, 1))\n",
              "  (fc1): Linear(in_features=1024, out_features=200, bias=True)\n",
              "  (fc2): Linear(in_features=200, out_features=200, bias=True)\n",
              "  (logits): Linear(in_features=200, out_features=10, bias=True)\n",
              ")"
            ]
          },
          "metadata": {
            "tags": []
          },
          "execution_count": 10
        }
      ]
    },
    {
      "cell_type": "markdown",
      "metadata": {
        "id": "ck_eKUiso05P",
        "colab_type": "text"
      },
      "source": [
        "### 2.6 测试目标模型"
      ]
    },
    {
      "cell_type": "code",
      "metadata": {
        "id": "ajqPV0ESo05Q",
        "colab_type": "code",
        "colab": {
          "base_uri": "https://localhost:8080/",
          "height": 51
        },
        "outputId": "5de5672f-bb4e-4639-c518-4fc77d45f9c7"
      },
      "source": [
        "# MNIST test dataset\n",
        "mnist_dataset_test = torchvision.datasets.MNIST('./dataset', \n",
        "                                                train=False, \n",
        "                                                transform=transforms.ToTensor(), \n",
        "                                                download=False)\n",
        "test_dataloader = DataLoader(mnist_dataset_test, \n",
        "                             batch_size=model_batch_size, \n",
        "                             shuffle=True, \n",
        "                             num_workers=1)\n",
        "num_correct = 0\n",
        "for i, data in enumerate(test_dataloader, 0):\n",
        "    test_img, test_label = data\n",
        "    test_img, test_label = test_img.to(device), test_label.to(device)\n",
        "    pred_lab = torch.argmax(target_model(test_img), 1)\n",
        "    num_correct += torch.sum(pred_lab==test_label,0)\n",
        "\n",
        "print('accuracy in testing set: %f\\n'%(num_correct.item()/len(mnist_dataset_test)))"
      ],
      "execution_count": 11,
      "outputs": [
        {
          "output_type": "stream",
          "text": [
            "accuracy in testing set: 0.993100\n",
            "\n"
          ],
          "name": "stdout"
        }
      ]
    },
    {
      "cell_type": "markdown",
      "metadata": {
        "colab_type": "text",
        "id": "G1fLgzvLHAAq"
      },
      "source": [
        "## 3. AdvGAN的生成"
      ]
    },
    {
      "cell_type": "markdown",
      "metadata": {
        "id": "nOaOhuj1o05W",
        "colab_type": "text"
      },
      "source": [
        "### 3.1 定义判别器"
      ]
    },
    {
      "cell_type": "code",
      "metadata": {
        "colab_type": "code",
        "id": "_NuMzlzVHFNb",
        "colab": {}
      },
      "source": [
        "class Discriminator(nn.Module):\n",
        "    def __init__(self, image_nc):\n",
        "        super(Discriminator, self).__init__()\n",
        "        # MNIST: 1*28*28\n",
        "        model = [\n",
        "                nn.Conv2d(image_nc, 8, kernel_size=4, stride=2, padding=0, bias=True),\n",
        "                nn.LeakyReLU(0.2),\n",
        "                # 8*13*13\n",
        "                nn.Conv2d(8, 16, kernel_size=4, stride=2, padding=0, bias=True),\n",
        "                nn.BatchNorm2d(16),\n",
        "                nn.LeakyReLU(0.2),\n",
        "                # 16*5*5\n",
        "                nn.Conv2d(16, 32, kernel_size=4, stride=2, padding=0, bias=True),\n",
        "                nn.BatchNorm2d(32),\n",
        "                nn.LeakyReLU(0.2),\n",
        "                nn.Conv2d(32, 1, 1),\n",
        "                nn.Sigmoid()\n",
        "                # 32*1*1\n",
        "        ]\n",
        "        self.model = nn.Sequential(*model)\n",
        "\n",
        "    def forward(self, x):\n",
        "        output = self.model(x).squeeze()\n",
        "        return output"
      ],
      "execution_count": 0,
      "outputs": []
    },
    {
      "cell_type": "markdown",
      "metadata": {
        "colab_type": "text",
        "id": "H2iBujr6KPk4"
      },
      "source": [
        "### 3.2  定义resnet block"
      ]
    },
    {
      "cell_type": "code",
      "metadata": {
        "colab_type": "code",
        "id": "KoJglOnfKNHe",
        "colab": {}
      },
      "source": [
        "# modified from https://github.com/junyanz/pytorch-CycleGAN-and-pix2pix/blob/master/models/networks.py\n",
        "class ResnetBlock(nn.Module):\n",
        "    def __init__(self, dim, padding_type='reflect', norm_layer=nn.BatchNorm2d, use_dropout=False, use_bias=False):\n",
        "        super(ResnetBlock, self).__init__()\n",
        "        self.conv_block = self.build_conv_block(dim, padding_type, norm_layer, use_dropout, use_bias)\n",
        "\n",
        "    def build_conv_block(self, dim, padding_type, norm_layer, use_dropout, use_bias):\n",
        "        conv_block = []\n",
        "        p = 0\n",
        "        if padding_type == 'reflect':\n",
        "            conv_block += [nn.ReflectionPad2d(1)]\n",
        "        elif padding_type == 'replicate':\n",
        "            conv_block += [nn.ReplicationPad2d(1)]\n",
        "        elif padding_type == 'zero':\n",
        "            p = 1\n",
        "        else:\n",
        "            raise NotImplementedError('padding [%s] is not implemented' % padding_type)\n",
        "\n",
        "        conv_block += [nn.Conv2d(dim, dim, kernel_size=3, padding=p, bias=use_bias),\n",
        "                       norm_layer(dim),\n",
        "                       nn.ReLU(True)]\n",
        "        if use_dropout:\n",
        "            conv_block += [nn.Dropout(0.5)]\n",
        "\n",
        "        p = 0\n",
        "        if padding_type == 'reflect':\n",
        "            conv_block += [nn.ReflectionPad2d(1)]\n",
        "        elif padding_type == 'replicate':\n",
        "            conv_block += [nn.ReplicationPad2d(1)]\n",
        "        elif padding_type == 'zero':\n",
        "            p = 1\n",
        "        else:\n",
        "            raise NotImplementedError('padding [%s] is not implemented' % padding_type)\n",
        "\n",
        "        conv_block += [nn.Conv2d(dim, dim, kernel_size=3, padding=p, bias=use_bias),\n",
        "                       norm_layer(dim)]\n",
        "\n",
        "        return nn.Sequential(*conv_block)\n",
        "\n",
        "    def forward(self, x):\n",
        "        out = x + self.conv_block(x)\n",
        "        return out\n"
      ],
      "execution_count": 0,
      "outputs": []
    },
    {
      "cell_type": "markdown",
      "metadata": {
        "colab_type": "text",
        "id": "zJcu7mM9I8xR"
      },
      "source": [
        "### 3.3 定义生成器"
      ]
    },
    {
      "cell_type": "code",
      "metadata": {
        "colab_type": "code",
        "id": "-ytzTquQIWRR",
        "colab": {}
      },
      "source": [
        "class Generator(nn.Module):\n",
        "    def __init__(self,\n",
        "                 gen_input_nc,\n",
        "                 image_nc,\n",
        "                ):\n",
        "        super(Generator, self).__init__()\n",
        "\n",
        "        encoder_lis = [\n",
        "                      # MNIST:1*28*28\n",
        "                      nn.Conv2d(gen_input_nc, 8, kernel_size=3, stride=1, padding=0, bias=True),\n",
        "                      nn.InstanceNorm2d(8),\n",
        "                      nn.ReLU(),\n",
        "                      # 8*26*26\n",
        "                      nn.Conv2d(8, 16, kernel_size=3, stride=2, padding=0, bias=True),\n",
        "                      nn.InstanceNorm2d(16),\n",
        "                      nn.ReLU(),\n",
        "                      # 16*12*12\n",
        "                      nn.Conv2d(16, 32, kernel_size=3, stride=2, padding=0, bias=True),\n",
        "                      nn.InstanceNorm2d(32),\n",
        "                      nn.ReLU(),\n",
        "                      # 32*5*5\n",
        "        ]\n",
        "\n",
        "        bottle_neck_lis = [ResnetBlock(32),\n",
        "                           ResnetBlock(32),\n",
        "                           ResnetBlock(32),\n",
        "                           ResnetBlock(32),]\n",
        "\n",
        "        decoder_lis = [\n",
        "                      nn.ConvTranspose2d(32, 16, kernel_size=3, stride=2, padding=0, bias=False),\n",
        "                      nn.InstanceNorm2d(16),\n",
        "                      nn.ReLU(),\n",
        "                      # state size. 16 x 11 x 11\n",
        "                      nn.ConvTranspose2d(16, 8, kernel_size=3, stride=2, padding=0, bias=False),\n",
        "                      nn.InstanceNorm2d(8),\n",
        "                      nn.ReLU(),\n",
        "                      # state size. 8 x 23 x 23\n",
        "                      nn.ConvTranspose2d(8, image_nc, kernel_size=6, stride=1, padding=0, bias=False),\n",
        "                      nn.Tanh()\n",
        "                      # state size. image_nc x 28 x 28\n",
        "        ]\n",
        "\n",
        "        self.encoder = nn.Sequential(*encoder_lis)\n",
        "        self.bottle_neck = nn.Sequential(*bottle_neck_lis)\n",
        "        self.decoder = nn.Sequential(*decoder_lis)\n",
        "\n",
        "    def forward(self, x):\n",
        "        x = self.encoder(x)\n",
        "        x = self.bottle_neck(x)\n",
        "        x = self.decoder(x)\n",
        "        return x"
      ],
      "execution_count": 0,
      "outputs": []
    },
    {
      "cell_type": "markdown",
      "metadata": {
        "id": "ImL3Esapo05j",
        "colab_type": "text"
      },
      "source": [
        "### 3.4 训练AdvGAN_Attack"
      ]
    },
    {
      "cell_type": "code",
      "metadata": {
        "id": "buC9NRcHo05k",
        "colab_type": "code",
        "colab": {}
      },
      "source": [
        "import numpy as np\n",
        "import os\n",
        "\n",
        "models_path = './models/'"
      ],
      "execution_count": 0,
      "outputs": []
    },
    {
      "cell_type": "markdown",
      "metadata": {
        "id": "aIf4POhSo05o",
        "colab_type": "text"
      },
      "source": [
        "#### 3.4.1 分别初始化D权值和G的"
      ]
    },
    {
      "cell_type": "code",
      "metadata": {
        "id": "kDhSDXwoo05p",
        "colab_type": "code",
        "colab": {}
      },
      "source": [
        "# custom weights initialization called on netG and netD\n",
        "def weights_init(m):\n",
        "    classname = m.__class__.__name__\n",
        "    if classname.find('Conv') != -1:\n",
        "        nn.init.normal_(m.weight.data, 0.0, 0.02)\n",
        "    elif classname.find('BatchNorm') != -1:\n",
        "        nn.init.normal_(m.weight.data, 1.0, 0.02)\n",
        "        nn.init.constant_(m.bias.data, 0)"
      ],
      "execution_count": 0,
      "outputs": []
    },
    {
      "cell_type": "markdown",
      "metadata": {
        "id": "6vf_K9zao05s",
        "colab_type": "text"
      },
      "source": [
        "#### 3.4.2 定义AdvGAN_Attack这个类"
      ]
    },
    {
      "cell_type": "code",
      "metadata": {
        "id": "foSji95Co05t",
        "colab_type": "code",
        "colab": {}
      },
      "source": [
        "class AdvGAN_Attack:\n",
        "    def __init__(self,\n",
        "                 device,\n",
        "                 model,\n",
        "                 model_num_labels,\n",
        "                 image_nc,\n",
        "                 box_min,\n",
        "                 box_max):\n",
        "        output_nc = image_nc\n",
        "        self.device = device\n",
        "        self.model_num_labels = model_num_labels\n",
        "        self.model = model\n",
        "        self.input_nc = image_nc\n",
        "        self.output_nc = output_nc\n",
        "        self.box_min = box_min\n",
        "        self.box_max = box_max\n",
        "\n",
        "        self.gen_input_nc = image_nc\n",
        "        self.netG = Generator(self.gen_input_nc, image_nc).to(device)\n",
        "        self.netDisc = Discriminator(image_nc).to(device)\n",
        "\n",
        "        # initialize all weights\n",
        "        self.netG.apply(weights_init)\n",
        "        self.netDisc.apply(weights_init)\n",
        "\n",
        "        # initialize optimizers\n",
        "        self.optimizer_G = torch.optim.Adam(self.netG.parameters(),\n",
        "                                            lr=0.001)\n",
        "        self.optimizer_D = torch.optim.Adam(self.netDisc.parameters(),\n",
        "                                            lr=0.001)\n",
        "\n",
        "        if not os.path.exists(models_path):\n",
        "            os.makedirs(models_path)\n",
        "\n",
        "    def train_batch(self, x, labels):\n",
        "        # optimize D\n",
        "        for i in range(1):\n",
        "            perturbation = self.netG(x)\n",
        "\n",
        "            # add a clipping trick\n",
        "            adv_images = torch.clamp(perturbation, -0.3, 0.3) + x\n",
        "            adv_images = torch.clamp(adv_images, self.box_min, self.box_max)\n",
        "\n",
        "            self.optimizer_D.zero_grad()\n",
        "            pred_real = self.netDisc(x)\n",
        "            loss_D_real = F.mse_loss(pred_real, torch.ones_like(pred_real, device=self.device))\n",
        "            loss_D_real.backward()\n",
        "\n",
        "            pred_fake = self.netDisc(adv_images.detach())\n",
        "            loss_D_fake = F.mse_loss(pred_fake, torch.zeros_like(pred_fake, device=self.device))\n",
        "            loss_D_fake.backward()\n",
        "            loss_D_GAN = loss_D_fake + loss_D_real\n",
        "            self.optimizer_D.step()\n",
        "\n",
        "        # optimize G\n",
        "        for i in range(1):\n",
        "            self.optimizer_G.zero_grad()\n",
        "\n",
        "            # cal G's loss in GAN\n",
        "            pred_fake = self.netDisc(adv_images)\n",
        "            loss_G_fake = F.mse_loss(pred_fake, torch.ones_like(pred_fake, device=self.device))\n",
        "            loss_G_fake.backward(retain_graph=True)\n",
        "\n",
        "            # calculate perturbation norm\n",
        "            C = 0.1\n",
        "            loss_perturb = torch.mean(torch.norm(perturbation.view(perturbation.shape[0], -1), 2, dim=1))\n",
        "            # loss_perturb = torch.max(loss_perturb - C, torch.zeros(1, device=self.device))\n",
        "\n",
        "            # cal adv loss\n",
        "            logits_model = self.model(adv_images)\n",
        "            probs_model = F.softmax(logits_model, dim=1)\n",
        "            onehot_labels = torch.eye(self.model_num_labels, device=self.device)[labels]\n",
        "\n",
        "            # C&W loss function\n",
        "            real = torch.sum(onehot_labels * probs_model, dim=1)\n",
        "            other, _ = torch.max((1 - onehot_labels) * probs_model - onehot_labels * 10000, dim=1)\n",
        "            zeros = torch.zeros_like(other)\n",
        "            loss_adv = torch.max(real - other, zeros)\n",
        "            loss_adv = torch.sum(loss_adv)\n",
        "\n",
        "            # maximize cross_entropy loss\n",
        "            # loss_adv = -F.mse_loss(logits_model, onehot_labels)\n",
        "            # loss_adv = - F.cross_entropy(logits_model, labels)\n",
        "\n",
        "            adv_lambda = 10\n",
        "            pert_lambda = 1\n",
        "            loss_G = adv_lambda * loss_adv + pert_lambda * loss_perturb\n",
        "            loss_G.backward()\n",
        "            self.optimizer_G.step()\n",
        "\n",
        "        return loss_D_GAN.item(), loss_G_fake.item(), loss_perturb.item(), loss_adv.item()\n",
        "\n",
        "    def train(self, train_dataloader, epochs):\n",
        "        for epoch in range(1, epochs+1):\n",
        "\n",
        "            if epoch == 50:\n",
        "                self.optimizer_G = torch.optim.Adam(self.netG.parameters(),\n",
        "                                                    lr=0.0001)\n",
        "                self.optimizer_D = torch.optim.Adam(self.netDisc.parameters(),\n",
        "                                                    lr=0.0001)\n",
        "            if epoch == 80:\n",
        "                self.optimizer_G = torch.optim.Adam(self.netG.parameters(),\n",
        "                                                    lr=0.00001)\n",
        "                self.optimizer_D = torch.optim.Adam(self.netDisc.parameters(),\n",
        "                                                    lr=0.00001)\n",
        "            loss_D_sum = 0\n",
        "            loss_G_fake_sum = 0\n",
        "            loss_perturb_sum = 0\n",
        "            loss_adv_sum = 0\n",
        "            for i, data in enumerate(train_dataloader, start=0):\n",
        "                images, labels = data\n",
        "                images, labels = images.to(self.device), labels.to(self.device)\n",
        "\n",
        "                loss_D_batch, loss_G_fake_batch, loss_perturb_batch, loss_adv_batch = \\\n",
        "                    self.train_batch(images, labels)\n",
        "                loss_D_sum += loss_D_batch\n",
        "                loss_G_fake_sum += loss_G_fake_batch\n",
        "                loss_perturb_sum += loss_perturb_batch\n",
        "                loss_adv_sum += loss_adv_batch\n",
        "\n",
        "            # print statistics\n",
        "            num_batch = len(train_dataloader)\n",
        "            print(\"epoch %d:\\nloss_D: %.3f, loss_G_fake: %.3f,\\\n",
        "             \\nloss_perturb: %.3f, loss_adv: %.3f, \\n\" %\n",
        "                  (epoch, loss_D_sum/num_batch, loss_G_fake_sum/num_batch,\n",
        "                   loss_perturb_sum/num_batch, loss_adv_sum/num_batch))\n",
        "\n",
        "            # save generator\n",
        "            if epoch%20==0:\n",
        "                netG_file_name = models_path + 'netG_epoch_' + str(epoch) + '.pth'\n",
        "                torch.save(self.netG.state_dict(), netG_file_name)"
      ],
      "execution_count": 0,
      "outputs": []
    },
    {
      "cell_type": "markdown",
      "metadata": {
        "id": "SI_NOiq1o05v",
        "colab_type": "text"
      },
      "source": [
        "#### 3.4.3 开始训练"
      ]
    },
    {
      "cell_type": "code",
      "metadata": {
        "id": "c_T6qk2Ao05w",
        "colab_type": "code",
        "colab": {}
      },
      "source": [
        "epochs = 60\n",
        "AdvGAN_batch_size = 128\n",
        "BOX_MIN = 0\n",
        "BOX_MAX = 1"
      ],
      "execution_count": 0,
      "outputs": []
    },
    {
      "cell_type": "code",
      "metadata": {
        "id": "8alWNv2Xo05z",
        "colab_type": "code",
        "colab": {}
      },
      "source": [
        "pretrained_model = \"./MNIST_target_model.pth\"\n",
        "targeted_model = MNIST_target_net().to(device)\n",
        "targeted_model.load_state_dict(torch.load(pretrained_model))\n",
        "targeted_model.eval()\n",
        "model_num_labels = 10"
      ],
      "execution_count": 0,
      "outputs": []
    },
    {
      "cell_type": "code",
      "metadata": {
        "id": "0yLDOstUo053",
        "colab_type": "code",
        "colab": {
          "base_uri": "https://localhost:8080/",
          "height": 1000
        },
        "outputId": "3189ecae-557a-4852-92b9-da7d80f24904"
      },
      "source": [
        "# MNIST train dataset and dataloader declaration\n",
        "mnist_dataset = torchvision.datasets.MNIST('./dataset', \n",
        "                                           train=True, \n",
        "                                           transform=transforms.ToTensor(), \n",
        "                                           download=False)\n",
        "dataloader = DataLoader(mnist_dataset, \n",
        "                        batch_size=AdvGAN_batch_size, \n",
        "                        shuffle=True, \n",
        "                        num_workers=1)\n",
        "advGAN = AdvGAN_Attack(device,\n",
        "                          targeted_model,\n",
        "                          model_num_labels,\n",
        "                          image_nc,\n",
        "                          BOX_MIN,\n",
        "                          BOX_MAX)\n",
        "\n",
        "advGAN.train(dataloader, epochs)"
      ],
      "execution_count": 20,
      "outputs": [
        {
          "output_type": "stream",
          "text": [
            "epoch 1:\n",
            "loss_D: 0.249, loss_G_fake: 0.482,             \n",
            "loss_perturb: 16.324, loss_adv: 41.130, \n",
            "\n",
            "epoch 2:\n",
            "loss_D: 0.049, loss_G_fake: 0.767,             \n",
            "loss_perturb: 17.129, loss_adv: 15.665, \n",
            "\n",
            "epoch 3:\n",
            "loss_D: 0.018, loss_G_fake: 0.860,             \n",
            "loss_perturb: 17.338, loss_adv: 8.594, \n",
            "\n",
            "epoch 4:\n",
            "loss_D: 0.007, loss_G_fake: 0.914,             \n",
            "loss_perturb: 17.496, loss_adv: 5.720, \n",
            "\n",
            "epoch 5:\n",
            "loss_D: 0.006, loss_G_fake: 0.930,             \n",
            "loss_perturb: 17.463, loss_adv: 4.802, \n",
            "\n",
            "epoch 6:\n",
            "loss_D: 0.003, loss_G_fake: 0.948,             \n",
            "loss_perturb: 17.250, loss_adv: 3.904, \n",
            "\n",
            "epoch 7:\n",
            "loss_D: 0.001, loss_G_fake: 0.962,             \n",
            "loss_perturb: 16.961, loss_adv: 2.978, \n",
            "\n",
            "epoch 8:\n",
            "loss_D: 0.002, loss_G_fake: 0.965,             \n",
            "loss_perturb: 16.953, loss_adv: 2.632, \n",
            "\n",
            "epoch 9:\n",
            "loss_D: 0.001, loss_G_fake: 0.969,             \n",
            "loss_perturb: 16.780, loss_adv: 2.499, \n",
            "\n",
            "epoch 10:\n",
            "loss_D: 0.001, loss_G_fake: 0.970,             \n",
            "loss_perturb: 16.804, loss_adv: 2.365, \n",
            "\n",
            "epoch 11:\n",
            "loss_D: 0.001, loss_G_fake: 0.980,             \n",
            "loss_perturb: 16.955, loss_adv: 2.322, \n",
            "\n",
            "epoch 12:\n",
            "loss_D: 0.000, loss_G_fake: 0.985,             \n",
            "loss_perturb: 16.626, loss_adv: 1.988, \n",
            "\n",
            "epoch 13:\n",
            "loss_D: 0.000, loss_G_fake: 0.985,             \n",
            "loss_perturb: 16.751, loss_adv: 2.107, \n",
            "\n",
            "epoch 14:\n",
            "loss_D: 0.002, loss_G_fake: 0.978,             \n",
            "loss_perturb: 16.671, loss_adv: 1.872, \n",
            "\n",
            "epoch 15:\n",
            "loss_D: 0.000, loss_G_fake: 0.985,             \n",
            "loss_perturb: 16.401, loss_adv: 1.672, \n",
            "\n",
            "epoch 16:\n",
            "loss_D: 0.001, loss_G_fake: 0.982,             \n",
            "loss_perturb: 16.015, loss_adv: 1.579, \n",
            "\n",
            "epoch 17:\n",
            "loss_D: 0.000, loss_G_fake: 0.988,             \n",
            "loss_perturb: 15.915, loss_adv: 1.428, \n",
            "\n",
            "epoch 18:\n",
            "loss_D: 0.000, loss_G_fake: 0.990,             \n",
            "loss_perturb: 15.946, loss_adv: 1.383, \n",
            "\n",
            "epoch 19:\n",
            "loss_D: 0.000, loss_G_fake: 0.990,             \n",
            "loss_perturb: 15.687, loss_adv: 1.425, \n",
            "\n",
            "epoch 20:\n",
            "loss_D: 0.000, loss_G_fake: 0.993,             \n",
            "loss_perturb: 15.413, loss_adv: 1.260, \n",
            "\n",
            "epoch 21:\n",
            "loss_D: 0.001, loss_G_fake: 0.990,             \n",
            "loss_perturb: 14.972, loss_adv: 1.098, \n",
            "\n",
            "epoch 22:\n",
            "loss_D: 0.000, loss_G_fake: 0.990,             \n",
            "loss_perturb: 14.803, loss_adv: 1.153, \n",
            "\n",
            "epoch 23:\n",
            "loss_D: 0.001, loss_G_fake: 0.988,             \n",
            "loss_perturb: 14.772, loss_adv: 1.127, \n",
            "\n",
            "epoch 24:\n",
            "loss_D: 0.000, loss_G_fake: 0.994,             \n",
            "loss_perturb: 14.669, loss_adv: 1.139, \n",
            "\n",
            "epoch 25:\n",
            "loss_D: 0.001, loss_G_fake: 0.989,             \n",
            "loss_perturb: 14.398, loss_adv: 0.954, \n",
            "\n",
            "epoch 26:\n",
            "loss_D: 0.000, loss_G_fake: 0.992,             \n",
            "loss_perturb: 14.568, loss_adv: 0.977, \n",
            "\n",
            "epoch 27:\n",
            "loss_D: 0.000, loss_G_fake: 0.995,             \n",
            "loss_perturb: 14.287, loss_adv: 0.922, \n",
            "\n",
            "epoch 28:\n",
            "loss_D: 0.000, loss_G_fake: 0.996,             \n",
            "loss_perturb: 13.948, loss_adv: 0.837, \n",
            "\n",
            "epoch 29:\n",
            "loss_D: 0.000, loss_G_fake: 0.993,             \n",
            "loss_perturb: 13.600, loss_adv: 0.757, \n",
            "\n",
            "epoch 30:\n",
            "loss_D: 0.000, loss_G_fake: 0.996,             \n",
            "loss_perturb: 13.223, loss_adv: 0.889, \n",
            "\n",
            "epoch 31:\n",
            "loss_D: 0.000, loss_G_fake: 0.997,             \n",
            "loss_perturb: 13.135, loss_adv: 0.786, \n",
            "\n",
            "epoch 32:\n",
            "loss_D: 0.000, loss_G_fake: 0.997,             \n",
            "loss_perturb: 12.821, loss_adv: 0.698, \n",
            "\n",
            "epoch 33:\n",
            "loss_D: 0.000, loss_G_fake: 0.996,             \n",
            "loss_perturb: 12.550, loss_adv: 0.737, \n",
            "\n",
            "epoch 34:\n",
            "loss_D: 0.000, loss_G_fake: 0.993,             \n",
            "loss_perturb: 12.398, loss_adv: 0.679, \n",
            "\n",
            "epoch 35:\n",
            "loss_D: 0.000, loss_G_fake: 0.996,             \n",
            "loss_perturb: 12.239, loss_adv: 0.701, \n",
            "\n",
            "epoch 36:\n",
            "loss_D: 0.000, loss_G_fake: 0.996,             \n",
            "loss_perturb: 11.963, loss_adv: 0.643, \n",
            "\n",
            "epoch 37:\n",
            "loss_D: 0.000, loss_G_fake: 0.995,             \n",
            "loss_perturb: 11.974, loss_adv: 0.694, \n",
            "\n",
            "epoch 38:\n",
            "loss_D: 0.000, loss_G_fake: 0.996,             \n",
            "loss_perturb: 11.668, loss_adv: 0.624, \n",
            "\n",
            "epoch 39:\n",
            "loss_D: 0.000, loss_G_fake: 0.996,             \n",
            "loss_perturb: 11.458, loss_adv: 0.576, \n",
            "\n",
            "epoch 40:\n",
            "loss_D: 0.000, loss_G_fake: 0.997,             \n",
            "loss_perturb: 11.285, loss_adv: 0.595, \n",
            "\n",
            "epoch 41:\n",
            "loss_D: 0.000, loss_G_fake: 0.998,             \n",
            "loss_perturb: 11.449, loss_adv: 0.573, \n",
            "\n",
            "epoch 42:\n",
            "loss_D: 0.000, loss_G_fake: 0.995,             \n",
            "loss_perturb: 11.229, loss_adv: 0.533, \n",
            "\n",
            "epoch 43:\n",
            "loss_D: 0.000, loss_G_fake: 0.997,             \n",
            "loss_perturb: 10.567, loss_adv: 0.491, \n",
            "\n",
            "epoch 44:\n",
            "loss_D: 0.000, loss_G_fake: 0.994,             \n",
            "loss_perturb: 10.696, loss_adv: 0.538, \n",
            "\n",
            "epoch 45:\n",
            "loss_D: 0.000, loss_G_fake: 0.996,             \n",
            "loss_perturb: 10.624, loss_adv: 0.570, \n",
            "\n",
            "epoch 46:\n",
            "loss_D: 0.000, loss_G_fake: 0.997,             \n",
            "loss_perturb: 10.587, loss_adv: 0.518, \n",
            "\n",
            "epoch 47:\n",
            "loss_D: 0.000, loss_G_fake: 0.998,             \n",
            "loss_perturb: 10.516, loss_adv: 0.460, \n",
            "\n",
            "epoch 48:\n",
            "loss_D: 0.000, loss_G_fake: 0.998,             \n",
            "loss_perturb: 10.083, loss_adv: 0.439, \n",
            "\n",
            "epoch 49:\n",
            "loss_D: 0.000, loss_G_fake: 0.998,             \n",
            "loss_perturb: 9.878, loss_adv: 0.464, \n",
            "\n",
            "epoch 50:\n",
            "loss_D: 0.000, loss_G_fake: 0.999,             \n",
            "loss_perturb: 9.233, loss_adv: 0.342, \n",
            "\n",
            "epoch 51:\n",
            "loss_D: 0.000, loss_G_fake: 0.999,             \n",
            "loss_perturb: 8.791, loss_adv: 0.263, \n",
            "\n",
            "epoch 52:\n",
            "loss_D: 0.000, loss_G_fake: 0.999,             \n",
            "loss_perturb: 8.418, loss_adv: 0.230, \n",
            "\n",
            "epoch 53:\n",
            "loss_D: 0.000, loss_G_fake: 0.999,             \n",
            "loss_perturb: 8.159, loss_adv: 0.254, \n",
            "\n",
            "epoch 54:\n",
            "loss_D: 0.000, loss_G_fake: 0.999,             \n",
            "loss_perturb: 7.928, loss_adv: 0.236, \n",
            "\n",
            "epoch 55:\n",
            "loss_D: 0.000, loss_G_fake: 0.999,             \n",
            "loss_perturb: 7.663, loss_adv: 0.219, \n",
            "\n",
            "epoch 56:\n",
            "loss_D: 0.000, loss_G_fake: 0.999,             \n",
            "loss_perturb: 7.501, loss_adv: 0.224, \n",
            "\n",
            "epoch 57:\n",
            "loss_D: 0.000, loss_G_fake: 0.999,             \n",
            "loss_perturb: 7.354, loss_adv: 0.189, \n",
            "\n",
            "epoch 58:\n",
            "loss_D: 0.000, loss_G_fake: 0.999,             \n",
            "loss_perturb: 7.294, loss_adv: 0.210, \n",
            "\n",
            "epoch 59:\n",
            "loss_D: 0.000, loss_G_fake: 0.999,             \n",
            "loss_perturb: 7.147, loss_adv: 0.215, \n",
            "\n",
            "epoch 60:\n",
            "loss_D: 0.000, loss_G_fake: 0.999,             \n",
            "loss_perturb: 7.217, loss_adv: 0.174, \n",
            "\n"
          ],
          "name": "stdout"
        }
      ]
    },
    {
      "cell_type": "markdown",
      "metadata": {
        "id": "Salbqa4ko056",
        "colab_type": "text"
      },
      "source": [
        "## 4 测试对抗样本"
      ]
    },
    {
      "cell_type": "code",
      "metadata": {
        "id": "Cun34lqQo057",
        "colab_type": "code",
        "colab": {}
      },
      "source": [
        "image_nc = 1\n",
        "test_batch_size = 128\n",
        "\n",
        "gen_input_nc = image_nc"
      ],
      "execution_count": 0,
      "outputs": []
    },
    {
      "cell_type": "code",
      "metadata": {
        "id": "GV80C63no05-",
        "colab_type": "code",
        "colab": {
          "base_uri": "https://localhost:8080/",
          "height": 170
        },
        "outputId": "3399cd20-6e45-4542-ac65-782f0ccce18b"
      },
      "source": [
        "# load the pretrained model\n",
        "pretrained_model = \"./MNIST_target_model.pth\"\n",
        "target_model = MNIST_target_net().to(device)\n",
        "target_model.load_state_dict(torch.load(pretrained_model))\n",
        "target_model.eval()"
      ],
      "execution_count": 22,
      "outputs": [
        {
          "output_type": "execute_result",
          "data": {
            "text/plain": [
              "MNIST_target_net(\n",
              "  (conv1): Conv2d(1, 32, kernel_size=(3, 3), stride=(1, 1))\n",
              "  (conv2): Conv2d(32, 32, kernel_size=(3, 3), stride=(1, 1))\n",
              "  (conv3): Conv2d(32, 64, kernel_size=(3, 3), stride=(1, 1))\n",
              "  (conv4): Conv2d(64, 64, kernel_size=(3, 3), stride=(1, 1))\n",
              "  (fc1): Linear(in_features=1024, out_features=200, bias=True)\n",
              "  (fc2): Linear(in_features=200, out_features=200, bias=True)\n",
              "  (logits): Linear(in_features=200, out_features=10, bias=True)\n",
              ")"
            ]
          },
          "metadata": {
            "tags": []
          },
          "execution_count": 22
        }
      ]
    },
    {
      "cell_type": "code",
      "metadata": {
        "id": "hLYhSnW6o06A",
        "colab_type": "code",
        "colab": {
          "base_uri": "https://localhost:8080/",
          "height": 1000
        },
        "outputId": "b79db4ce-c8e9-4d49-a920-7279560f5f48"
      },
      "source": [
        "# load the generator of adversarial examples\n",
        "pretrained_generator_path = './models/netG_epoch_60.pth'\n",
        "pretrained_G = Generator(gen_input_nc, image_nc).to(device)\n",
        "pretrained_G.load_state_dict(torch.load(pretrained_generator_path))\n",
        "pretrained_G.eval()"
      ],
      "execution_count": 24,
      "outputs": [
        {
          "output_type": "execute_result",
          "data": {
            "text/plain": [
              "Generator(\n",
              "  (encoder): Sequential(\n",
              "    (0): Conv2d(1, 8, kernel_size=(3, 3), stride=(1, 1))\n",
              "    (1): InstanceNorm2d(8, eps=1e-05, momentum=0.1, affine=False, track_running_stats=False)\n",
              "    (2): ReLU()\n",
              "    (3): Conv2d(8, 16, kernel_size=(3, 3), stride=(2, 2))\n",
              "    (4): InstanceNorm2d(16, eps=1e-05, momentum=0.1, affine=False, track_running_stats=False)\n",
              "    (5): ReLU()\n",
              "    (6): Conv2d(16, 32, kernel_size=(3, 3), stride=(2, 2))\n",
              "    (7): InstanceNorm2d(32, eps=1e-05, momentum=0.1, affine=False, track_running_stats=False)\n",
              "    (8): ReLU()\n",
              "  )\n",
              "  (bottle_neck): Sequential(\n",
              "    (0): ResnetBlock(\n",
              "      (conv_block): Sequential(\n",
              "        (0): ReflectionPad2d((1, 1, 1, 1))\n",
              "        (1): Conv2d(32, 32, kernel_size=(3, 3), stride=(1, 1), bias=False)\n",
              "        (2): BatchNorm2d(32, eps=1e-05, momentum=0.1, affine=True, track_running_stats=True)\n",
              "        (3): ReLU(inplace=True)\n",
              "        (4): ReflectionPad2d((1, 1, 1, 1))\n",
              "        (5): Conv2d(32, 32, kernel_size=(3, 3), stride=(1, 1), bias=False)\n",
              "        (6): BatchNorm2d(32, eps=1e-05, momentum=0.1, affine=True, track_running_stats=True)\n",
              "      )\n",
              "    )\n",
              "    (1): ResnetBlock(\n",
              "      (conv_block): Sequential(\n",
              "        (0): ReflectionPad2d((1, 1, 1, 1))\n",
              "        (1): Conv2d(32, 32, kernel_size=(3, 3), stride=(1, 1), bias=False)\n",
              "        (2): BatchNorm2d(32, eps=1e-05, momentum=0.1, affine=True, track_running_stats=True)\n",
              "        (3): ReLU(inplace=True)\n",
              "        (4): ReflectionPad2d((1, 1, 1, 1))\n",
              "        (5): Conv2d(32, 32, kernel_size=(3, 3), stride=(1, 1), bias=False)\n",
              "        (6): BatchNorm2d(32, eps=1e-05, momentum=0.1, affine=True, track_running_stats=True)\n",
              "      )\n",
              "    )\n",
              "    (2): ResnetBlock(\n",
              "      (conv_block): Sequential(\n",
              "        (0): ReflectionPad2d((1, 1, 1, 1))\n",
              "        (1): Conv2d(32, 32, kernel_size=(3, 3), stride=(1, 1), bias=False)\n",
              "        (2): BatchNorm2d(32, eps=1e-05, momentum=0.1, affine=True, track_running_stats=True)\n",
              "        (3): ReLU(inplace=True)\n",
              "        (4): ReflectionPad2d((1, 1, 1, 1))\n",
              "        (5): Conv2d(32, 32, kernel_size=(3, 3), stride=(1, 1), bias=False)\n",
              "        (6): BatchNorm2d(32, eps=1e-05, momentum=0.1, affine=True, track_running_stats=True)\n",
              "      )\n",
              "    )\n",
              "    (3): ResnetBlock(\n",
              "      (conv_block): Sequential(\n",
              "        (0): ReflectionPad2d((1, 1, 1, 1))\n",
              "        (1): Conv2d(32, 32, kernel_size=(3, 3), stride=(1, 1), bias=False)\n",
              "        (2): BatchNorm2d(32, eps=1e-05, momentum=0.1, affine=True, track_running_stats=True)\n",
              "        (3): ReLU(inplace=True)\n",
              "        (4): ReflectionPad2d((1, 1, 1, 1))\n",
              "        (5): Conv2d(32, 32, kernel_size=(3, 3), stride=(1, 1), bias=False)\n",
              "        (6): BatchNorm2d(32, eps=1e-05, momentum=0.1, affine=True, track_running_stats=True)\n",
              "      )\n",
              "    )\n",
              "  )\n",
              "  (decoder): Sequential(\n",
              "    (0): ConvTranspose2d(32, 16, kernel_size=(3, 3), stride=(2, 2), bias=False)\n",
              "    (1): InstanceNorm2d(16, eps=1e-05, momentum=0.1, affine=False, track_running_stats=False)\n",
              "    (2): ReLU()\n",
              "    (3): ConvTranspose2d(16, 8, kernel_size=(3, 3), stride=(2, 2), bias=False)\n",
              "    (4): InstanceNorm2d(8, eps=1e-05, momentum=0.1, affine=False, track_running_stats=False)\n",
              "    (5): ReLU()\n",
              "    (6): ConvTranspose2d(8, 1, kernel_size=(6, 6), stride=(1, 1), bias=False)\n",
              "    (7): Tanh()\n",
              "  )\n",
              ")"
            ]
          },
          "metadata": {
            "tags": []
          },
          "execution_count": 24
        }
      ]
    },
    {
      "cell_type": "code",
      "metadata": {
        "id": "GXb8Jiyso06D",
        "colab_type": "code",
        "colab": {
          "base_uri": "https://localhost:8080/",
          "height": 85
        },
        "outputId": "404a7464-7e47-4eec-b7cc-fc87de4733c5"
      },
      "source": [
        "# test adversarial examples in MNIST training dataset\n",
        "mnist_dataset = torchvision.datasets.MNIST('./dataset', train=True, transform=transforms.ToTensor(), download=True)\n",
        "train_dataloader = DataLoader(mnist_dataset, batch_size=test_batch_size, shuffle=False, num_workers=1)\n",
        "num_correct = 0\n",
        "for i, data in enumerate(train_dataloader, 0):\n",
        "    test_img, test_label = data\n",
        "    test_img, test_label = test_img.to(device), test_label.to(device)\n",
        "    perturbation = pretrained_G(test_img)\n",
        "    perturbation = torch.clamp(perturbation, -0.3, 0.3)\n",
        "    adv_img = perturbation + test_img\n",
        "    adv_img = torch.clamp(adv_img, 0, 1)\n",
        "    pred_lab = torch.argmax(target_model(adv_img),1)\n",
        "    num_correct += torch.sum(pred_lab==test_label,0)\n",
        "\n",
        "    \n",
        "print('MNIST training dataset:')\n",
        "print('num_correct: ', num_correct.item())\n",
        "print('accuracy of adv imgs in training set: %f\\n'%(num_correct.item()/len(mnist_dataset)))"
      ],
      "execution_count": 26,
      "outputs": [
        {
          "output_type": "stream",
          "text": [
            "MNIST training dataset:\n",
            "num_correct:  198\n",
            "accuracy of adv imgs in training set: 0.003300\n",
            "\n"
          ],
          "name": "stdout"
        }
      ]
    },
    {
      "cell_type": "code",
      "metadata": {
        "id": "taXrz4kio06G",
        "colab_type": "code",
        "colab": {
          "base_uri": "https://localhost:8080/",
          "height": 68
        },
        "outputId": "e39a3a6a-d73d-44fa-fb00-441213ab442d"
      },
      "source": [
        "# test adversarial examples in MNIST testing dataset\n",
        "mnist_dataset_test = torchvision.datasets.MNIST('./dataset', train=False, transform=transforms.ToTensor(), download=True)\n",
        "test_dataloader = DataLoader(mnist_dataset_test, batch_size=test_batch_size, shuffle=False, num_workers=1)\n",
        "num_correct = 0\n",
        "for i, data in enumerate(test_dataloader, 0):\n",
        "    test_img, test_label = data\n",
        "    test_img, test_label = test_img.to(device), test_label.to(device)\n",
        "    perturbation = pretrained_G(test_img)\n",
        "    perturbation = torch.clamp(perturbation, -0.3, 0.3)\n",
        "    adv_img = perturbation + test_img\n",
        "    adv_img = torch.clamp(adv_img, 0, 1)\n",
        "    pred_lab = torch.argmax(target_model(adv_img),1)\n",
        "    num_correct += torch.sum(pred_lab==test_label,0)\n",
        "\n",
        "print('num_correct: ', num_correct.item())\n",
        "print('accuracy of adv imgs in testing set: %f\\n'%(num_correct.item()/len(mnist_dataset_test)))"
      ],
      "execution_count": 28,
      "outputs": [
        {
          "output_type": "stream",
          "text": [
            "num_correct:  58\n",
            "accuracy of adv imgs in testing set: 0.005800\n",
            "\n"
          ],
          "name": "stdout"
        }
      ]
    },
    {
      "cell_type": "code",
      "metadata": {
        "id": "jH1i-17YutJd",
        "colab_type": "code",
        "colab": {}
      },
      "source": [
        ""
      ],
      "execution_count": 0,
      "outputs": []
    }
  ]
}